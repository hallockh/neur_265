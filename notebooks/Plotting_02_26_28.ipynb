{
  "nbformat": 4,
  "nbformat_minor": 0,
  "metadata": {
    "colab": {
      "provenance": [],
      "authorship_tag": "ABX9TyOXpLUJLi9lLaKIqphEWSlE",
      "include_colab_link": true
    },
    "kernelspec": {
      "name": "python3",
      "display_name": "Python 3"
    },
    "language_info": {
      "name": "python"
    }
  },
  "cells": [
    {
      "cell_type": "markdown",
      "metadata": {
        "id": "view-in-github",
        "colab_type": "text"
      },
      "source": [
        "<a href=\"https://colab.research.google.com/github/hallockh/neur_265/blob/main/notebooks/Plotting_02_26_28.ipynb\" target=\"_parent\"><img src=\"https://colab.research.google.com/assets/colab-badge.svg\" alt=\"Open In Colab\"/></a>"
      ]
    },
    {
      "cell_type": "markdown",
      "source": [
        "# Plotting\n",
        "\n",
        "This notebook will build on our previous Cell Types notebook to help us plot the data that we've pulled from the Allen Cell Types database.\n",
        "\n",
        "### By the end of this notebook, you'll be able to:\n",
        "\n",
        "* Create plots using `matplotlib.pyplot`\n",
        "* Manipulate aspects of plots\n",
        "* Create bar, box, and scatter plots from the Allen Cell Types metrics\n"
      ],
      "metadata": {
        "id": "5Ajq3ojydQyt"
      }
    },
    {
      "cell_type": "markdown",
      "source": [
        "## Step One: Get comfortable with our plotting tools\n",
        "\n",
        "First, let's get set up for plotting by importing the necessary tool boxes."
      ],
      "metadata": {
        "id": "sEGJRk6AdebK"
      }
    },
    {
      "cell_type": "code",
      "source": [
        "# Tell Jupyter to plot our plots inline\n",
        "%matplotlib inline\n",
        "\n",
        "# Import matplotlib and \"pyplot\" module\n",
        "# plt is the common abbreviation for matplotlib's pyplot module\n",
        "import matplotlib as mpl\n",
        "import matplotlib.pyplot as plt"
      ],
      "metadata": {
        "id": "X9WRSRLzdloN"
      },
      "execution_count": null,
      "outputs": []
    },
    {
      "cell_type": "markdown",
      "source": [
        "First, let's create a random line using our favorite scientific computing toolbox, and show how we can use the `matplotlib.pyplot` module to plot it.\n",
        "\n",
        "Useful functions:\n",
        "\n",
        "* `plt.plot()` create a plot from a list, array, pandas series, etc.\n",
        "* `plt.show()` show the plot (not strictly necessary in Jupyter, necessary in other IDEs)\n",
        "* `plt.xlabel()` and `plt.ylabel()` change x and y labels\n",
        "* `plt.title()` add a title"
      ],
      "metadata": {
        "id": "J52VSdpTeS4a"
      }
    },
    {
      "cell_type": "code",
      "source": [
        "import numpy as np\n",
        "\n",
        "# Generate a random line from 1 to 100 with 100 values\n",
        "random_line = np.random.randint(1,100,100)\n",
        "random_line\n",
        "\n",
        "random_line_2 = random_line + 100\n",
        "\n",
        "plt.plot(random_line)\n",
        "plt.plot(random_line_2)\n",
        "plt.show()"
      ],
      "metadata": {
        "id": "ORM0R9I_eo07"
      },
      "execution_count": null,
      "outputs": []
    },
    {
      "cell_type": "code",
      "source": [
        "# Create a scatter plot to show the relationship between the two lines\n",
        "\n",
        "plt.scatter(random_line,random_line_2)\n",
        "plt.show()\n"
      ],
      "metadata": {
        "id": "uhmo349FfbzA"
      },
      "execution_count": null,
      "outputs": []
    },
    {
      "cell_type": "markdown",
      "source": [
        "The `plt.hist()` function works really similarly."
      ],
      "metadata": {
        "id": "tsZsZVCEerqF"
      }
    },
    {
      "cell_type": "markdown",
      "source": [
        "><b>Task:</b> In the cell below:\n",
        "1. Generate a random list of 100 data points from a standard normal distribution (Hint: Use <code>np.random.standard_normal()</code>)\n",
        "2. Plot a histogram of the data."
      ],
      "metadata": {
        "id": "DAzXszKAey_d"
      }
    },
    {
      "cell_type": "code",
      "source": [
        "# Your code here\n"
      ],
      "metadata": {
        "id": "aZ0wqd3ofCjr"
      },
      "execution_count": null,
      "outputs": []
    },
    {
      "cell_type": "markdown",
      "source": [
        "We can also set up multiple subplots on the same figure using `subplots`. This also creates separate **axes** (really, separate plots) which we can access and manipulate, particularly if you are plotting multiple lines. It's common to use the `subplots` command for easier access to axis attributes."
      ],
      "metadata": {
        "id": "kdMibrL5fErW"
      }
    },
    {
      "cell_type": "code",
      "source": [
        "fig, ax = plt.subplots(2,2,figsize=(15,5))\n",
        "ax[0,0].plot(random_line)\n",
        "ax[0,0].set_ylabel('random values')\n",
        "\n",
        "plt.ylabel('random values')\n",
        "plt.show()"
      ],
      "metadata": {
        "id": "R9m9XOVcfLT2"
      },
      "execution_count": null,
      "outputs": []
    },
    {
      "cell_type": "markdown",
      "source": [
        "><b>Task:</b> Plot your second <code>random_line_2</code> in the upper-right hand subplot, put a scatter plot with <code>random_line</code> on the x-axis and <code>random_line_2</code> on the y-axis in the lower-left hand subplot, and put a histogram of your normally-distributed random data in the lower-right hand subplot."
      ],
      "metadata": {
        "id": "bbUBLLYtf9Qk"
      }
    },
    {
      "cell_type": "code",
      "source": [
        "# Your code here"
      ],
      "metadata": {
        "id": "qcqlYJC6gfkk"
      },
      "execution_count": null,
      "outputs": []
    },
    {
      "cell_type": "markdown",
      "source": [
        "There are *many, many* different aspects of a figure that you could manipulate (and spend a lot of time manipulating).\n",
        "\n",
        "Style guides help with this a bit, they set a few good defaults. Below, we are setting figure parameters, and choosing a figure style (see all styles [here](https://matplotlib.org/gallery/style_sheets/style_sheets_reference.html), or how to create your own style [here](https://matplotlib.org/tutorials/introductory/customizing.html).).)\n",
        "\n",
        "You can test how these parameters change our plots by going back and re-plotting the plots above.\n"
      ],
      "metadata": {
        "id": "2sjx3t9Zgk-p"
      }
    },
    {
      "cell_type": "markdown",
      "source": [
        "><b>Task:</b> Use different figure styles to change the appearance of your scatter plot"
      ],
      "metadata": {
        "id": "_0tJhlZ-jrwF"
      }
    },
    {
      "cell_type": "code",
      "source": [
        "# Set the figure \"dots per inch\" to be higher than the default (optional, based on your personal preference)\n",
        "mpl.rcParams['figure.dpi'] = 100\n",
        "\n",
        "# (Optional) Choose a figure style\n",
        "print(plt.style.available)\n",
        "plt.style.use('bmh')\n",
        "plt.scatter(random_line,random_line_2)"
      ],
      "metadata": {
        "id": "8rh9LgJNgrht"
      },
      "execution_count": null,
      "outputs": []
    },
    {
      "cell_type": "markdown",
      "source": [
        "## Step Two: Get metadata & electrophysiology data\n",
        "\n",
        "Here, we'll condense the steps from the previous notebook into one cell."
      ],
      "metadata": {
        "id": "YMt6BSdDkhbQ"
      }
    },
    {
      "cell_type": "code",
      "source": [
        "try:\n",
        "    import allensdk\n",
        "    print('allensdk imported')\n",
        "except ImportError as e:\n",
        "    !pip install allensdk\n",
        "\n",
        "from allensdk.core.cell_types_cache import CellTypesCache\n",
        "from allensdk.api.queries.cell_types_api import CellTypesApi\n",
        "\n",
        "import pandas as pd\n",
        "\n",
        "# We'll then initialize the cache as 'ctc' (cell types cache)\n",
        "ctc = CellTypesCache(manifest_file='cell_types/manifest.json')\n",
        "\n",
        "human_df = pd.DataFrame(ctc.get_cells(species=[CellTypesApi.HUMAN])).set_index('id')\n",
        "ephys_features = pd.DataFrame(ctc.get_ephys_features()).set_index('specimen_id')\n",
        "human_ephys_df = human_df.join(ephys_features)\n",
        "human_ephys_df.head()"
      ],
      "metadata": {
        "id": "GaicnooAj1e2"
      },
      "execution_count": null,
      "outputs": []
    },
    {
      "cell_type": "markdown",
      "source": [
        "## Step Three: Plot our ephys metrics\n",
        "\n",
        "Our plotting goal for today is to compare spiny and aspiny cells in humans. We have two options: we could split the dataframe into aspiny and spiny (as you did in our CellTypes notebook), or use our plotting tools to plot the data separately.\n",
        "\n",
        "Usefully, Pandas has some [built-in plotting tools](https://pandas.pydata.org/pandas-docs/stable/user_guide/visualization.html) to interact with Matplotlib, so we can actually just tell it to plot based on spiny and aspiny.\n",
        "\n",
        "First, let's plot the **number of cells** that we have for each of the dendrite types. Recall that we can access a column by using the bracket notation, with the column name in parentheses in the bracket.\n",
        "\n",
        "`value_counts()` is a method that will count up the number of instances of each value.\n",
        "\n",
        "`plot()` is a Pandas method that will plot, depending on the `kind` argument you give it."
      ],
      "metadata": {
        "id": "yis3Ta7-lDy3"
      }
    },
    {
      "cell_type": "code",
      "source": [
        "# For the different values in dendrite_type column, get the value_counts, and plot as a bar plot.\n",
        "human_ephys_df['dendrite_type'].value_counts().plot(kind='bar')\n",
        "\n",
        "# Add y label\n",
        "plt.ylabel('Number of cells')\n",
        "\n",
        "# Show the plot!\n",
        "plt.show()"
      ],
      "metadata": {
        "id": "H0IO2Dpele3u"
      },
      "execution_count": null,
      "outputs": []
    },
    {
      "cell_type": "markdown",
      "source": [
        "><b>Task:</b> Try plotting different features of the dataset (hint: look at the column headers). Try plotting these features using different styles (hint: check out the link in the *Markdown Cell* above to see different <code>kind</code> methods)."
      ],
      "metadata": {
        "id": "cxdm2v1jmFmF"
      }
    },
    {
      "cell_type": "markdown",
      "source": [
        "Our dataframe contains a *lot* of different metrics on these cells. Let's remind ourselves what we have available by accessing the `columns` attribute."
      ],
      "metadata": {
        "id": "s8o6s6gTnUYw"
      }
    },
    {
      "cell_type": "code",
      "source": [
        "human_ephys_df.columns"
      ],
      "metadata": {
        "id": "P9OBkxntnYvV"
      },
      "execution_count": null,
      "outputs": []
    },
    {
      "cell_type": "markdown",
      "source": [
        "Let's choose one of these columns and plot a boxplot. We'll do this with a call to pyplot ([examples here](https://matplotlib.org/gallery/pyplots/boxplot_demo_pyplot.html#sphx-glr-gallery-pyplots-boxplot-demo-pyplot-py)).\n",
        "\n",
        "**Note**: This is actually *slightly* easier by using the methods of our [dataframe](https://pandas.pydata.org/pandas-docs/stable/reference/api/pandas.DataFrame.boxplot.html), but it's a little bit more difficult to work with separate objects of the plot afterwards. Knowing how to create plots with a call to `plt.boxplots()` is a more universal way to work with various types of data structures, including dataframes, arrays, lists, etc."
      ],
      "metadata": {
        "id": "mT7vCS5DnbY2"
      }
    },
    {
      "cell_type": "markdown",
      "source": [
        "><b>Task:</b> Create a boxplot that compares spiny, aspiny, and sparsely spiny with the following steps:\n",
        "1. Save three different dataframes from your <code>human_ephys_df</code> by filtering for spiny, aspiny, and sparsely spiny. You can filter dataframes by using the syntax <code>dataframe[dataframe['column_name'] = 'variable_name']</code>\n",
        "2. Assign the 'fast_trough_v_long_square' of each of your spiny, aspiny, and sparsely spiny dataframes to three different pandas series objects (like a dataframe, but only one dimension). For example, <code>spiny_ft = spiny_data['fast_trough_v_long_square']</code>\n",
        "3. Create a list of your three different pandas series, and assign it to <code>data</code>. You can accomplish this by using the <code>series.tolist()</code> function.\n",
        "4. Create a boxplot by using <code>plt.boxplot()</code> and don't forget to show it!\n",
        "5. Once you're sure the boxplot is working, add a few lines of code to change the xticks, as well as add x and y labels ([see documentation here](https://matplotlib.org/api/axes_api.html#axis-limits))."
      ],
      "metadata": {
        "id": "kY4utehoteJh"
      }
    },
    {
      "cell_type": "code",
      "source": [
        "# Your code here!"
      ],
      "metadata": {
        "id": "Xlg-SbBbpPn_"
      },
      "execution_count": null,
      "outputs": []
    },
    {
      "cell_type": "markdown",
      "source": [
        "### Plot this data as a scatterplot\n",
        "\n",
        "The built-in scatterplot methods in Pandas are bit clunky, so we'll use `plt.scatter()` instead ([documentation here](https://matplotlib.org/api/_as_gen/matplotlib.pyplot.scatter.html#matplotlib.pyplot.scatter)).\n",
        "\n",
        "The syntax for a scatter plot is slightly longer if we want to label multiple groups with different colors. We'll actually loop through groups in order to create our plot:"
      ],
      "metadata": {
        "id": "eBX1X-HKvZmV"
      }
    },
    {
      "cell_type": "code",
      "source": [
        "# Get possible dendrite types\n",
        "dendrite_types = human_ephys_df['dendrite_type'].unique()\n",
        "\n",
        "fig = plt.figure()\n",
        "\n",
        "for d_type in dendrite_types:\n",
        "\n",
        "    df = human_ephys_df[human_ephys_df['dendrite_type'] == d_type]\n",
        "\n",
        "    plt.scatter(df['fast_trough_v_long_square'],\n",
        "                df['upstroke_downstroke_ratio_long_square'],\n",
        "                label=d_type)\n",
        "\n",
        "plt.ylabel(\"upstroke-downstroke ratio\")\n",
        "plt.xlabel(\"fast trough depth (mV)\")\n",
        "plt.legend(loc='best')\n",
        "\n",
        "plt.show()"
      ],
      "metadata": {
        "id": "5pbli58vvhTW"
      },
      "execution_count": null,
      "outputs": []
    }
  ]
}