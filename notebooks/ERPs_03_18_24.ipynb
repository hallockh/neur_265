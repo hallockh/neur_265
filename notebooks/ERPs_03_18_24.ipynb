{
  "nbformat": 4,
  "nbformat_minor": 0,
  "metadata": {
    "colab": {
      "provenance": [],
      "authorship_tag": "ABX9TyOSwGfdoJy9+15lsWCbMYqa",
      "include_colab_link": true
    },
    "kernelspec": {
      "name": "python3",
      "display_name": "Python 3"
    },
    "language_info": {
      "name": "python"
    }
  },
  "cells": [
    {
      "cell_type": "markdown",
      "metadata": {
        "id": "view-in-github",
        "colab_type": "text"
      },
      "source": [
        "<a href=\"https://colab.research.google.com/github/hallockh/neur_265/blob/main/notebooks/ERPs_03_18_24.ipynb\" target=\"_parent\"><img src=\"https://colab.research.google.com/assets/colab-badge.svg\" alt=\"Open In Colab\"/></a>"
      ]
    },
    {
      "cell_type": "markdown",
      "source": [
        "#Introduction to Continuously Sampled Data\n",
        "\n",
        "In this notebook (and our next few notebooks), you will learn the basics of working with continuously sampled data - specifically, EEG (electroencephalogram) and LFP (local field potential) data."
      ],
      "metadata": {
        "id": "_bqmxG4mJBqs"
      }
    },
    {
      "cell_type": "markdown",
      "source": [
        "##By the end of this notebook, you will be able to:\n",
        "\n",
        "- Plot continuously sampled data (brainwaves)\n",
        "- Identify attributes of these data (amplitude, frequency, phase)\n",
        "- Average signals across \"events\" to create an event-related potential (ERP)\n",
        "- Interpret the ERP in the context of behavior"
      ],
      "metadata": {
        "id": "lY4sXlPzJrAl"
      }
    },
    {
      "cell_type": "markdown",
      "source": [
        "##Different components of a continuously-sampled signal\n",
        "\n",
        "<img src = 'https://drive.google.com/uc?id=1__JK1ElA4y49QWLCpnF9dGghWiQzAzcG'>"
      ],
      "metadata": {
        "id": "uPUtQpEdQkic"
      }
    },
    {
      "cell_type": "markdown",
      "source": [
        "- The **amplitude** of a signal refers to its height (value along the y-axis). Another word often used interchangeably with amplitude is **power** (amplitude<sup>2</sup>).\n",
        "- The **frequency** of a signal refers to the number of cycles (from *peak* to *peak*) per second (measured in Hz).\n",
        "- The **phase** of a signal refers to its position within a cycle. When thinking about phase, it's useful to think of each cycle as a circle, with each part of the signal falling somewhere along the diameter of that circle."
      ],
      "metadata": {
        "id": "5-odpmG0Q7UR"
      }
    },
    {
      "cell_type": "code",
      "execution_count": null,
      "metadata": {
        "id": "8WkYcEuji3KX"
      },
      "outputs": [],
      "source": [
        "# Let's start by importing relevant modules\n",
        "\n",
        "import numpy as np\n",
        "import matplotlib.pyplot as plt"
      ]
    },
    {
      "cell_type": "markdown",
      "source": [
        "In this notebook, we'll work with publicly available EEG data from undergraduate students at a university.\n",
        "\n",
        "In this study, EEG electrodes (sampling rate 500 Hz, i.e., 500 samples per second) are placed on the student’s scalp, and he is seated in a comfortable chair in a dark, electrically isolated room. The student is instructed to place headphones over his ears and listen to a series of repeated sounds. The sounds consist of two tones - either a high pitch tone or a low pitch tone. A single tone is presented once every few seconds, and the student responds with a button press to the low pitch tone. The tone presentation is repeated to collect the EEG response to numerous presentations of the two tones, as illustrated here:\n",
        "\n",
        "<img src = 'https://drive.google.com/uc?id=1I0EJ2xdEbDgLUnRv_RIQXaU8_l2QViEA'>\n",
        "\n",
        "In this cartoon illustration of the EEG experiment, the EEG electrodes are placed on the scalp surface of a human subject (left). The EEG activity (blue) is recorded as a function of time during presentation of high pitch tones (black) and low pitch tones (orange)."
      ],
      "metadata": {
        "id": "C2_Jw7Hbi7t9"
      }
    },
    {
      "cell_type": "markdown",
      "source": [
        "Our firs step is to load the data in as <code>numpy</code> arrays. Do this by running the code cell below:"
      ],
      "metadata": {
        "id": "Ek_JYkSosZEt"
      }
    },
    {
      "cell_type": "code",
      "source": [
        "# Load in the EEG signal surrounding high-pitch tones, the EEG signal surrounding low-pitch tones, and the time scale for each trial\n",
        "\n",
        "url1 = 'https://raw.githubusercontent.com/hallockh/neur_265/main/eega.csv'\n",
        "url2 = 'https://raw.githubusercontent.com/hallockh/neur_265/main/eegb.csv'\n",
        "url3 = 'https://raw.githubusercontent.com/hallockh/neur_265/main/t.csv'\n",
        "\n",
        "EEGa = np.loadtxt(url1, delimiter = ',')\n",
        "EEGb = np.loadtxt(url2, delimiter = ',')\n",
        "time = np.loadtxt(url3, delimiter = ',')\n"
      ],
      "metadata": {
        "id": "RPjZWiosj5kd"
      },
      "execution_count": null,
      "outputs": []
    },
    {
      "cell_type": "markdown",
      "source": [
        "><b>Task:</b> Print the shape of each one of the three variables you imported"
      ],
      "metadata": {
        "id": "xGp5pD0ctphp"
      }
    },
    {
      "cell_type": "code",
      "source": [
        "# Your code here!"
      ],
      "metadata": {
        "id": "FNPQe_xZt2Jd"
      },
      "execution_count": null,
      "outputs": []
    },
    {
      "cell_type": "markdown",
      "source": [
        "We see that the shape for both `EEGa` and `EEGb` is 1000x500. Both variables are matrices with 1000 rows and 500 columns. We know that:\n",
        "\n",
        "Each row corresponds to a separate trial, and\n",
        "\n",
        "Each column to a point in time.\n",
        "\n",
        "So there are 1000 total trials, each consisting of 500 time points. As a matter of convenience, we define a new variable to record the number of trials:"
      ],
      "metadata": {
        "id": "rQ6AMby_t-ZC"
      }
    },
    {
      "cell_type": "code",
      "source": [
        "ntrials = EEGa.shape[0]"
      ],
      "metadata": {
        "id": "x6a9kXYDucEB"
      },
      "execution_count": null,
      "outputs": []
    },
    {
      "cell_type": "markdown",
      "source": [
        "Question: What is the size of your <code>ntrials</code> variable? Why did the above code return this value?"
      ],
      "metadata": {
        "id": "xRO0QtG2uk6K"
      }
    },
    {
      "cell_type": "markdown",
      "source": [
        "We can actually assign two variables at the same time with the <code>shape</code> function:"
      ],
      "metadata": {
        "id": "lSivH4dnuvKq"
      }
    },
    {
      "cell_type": "code",
      "source": [
        "ntrials, nsamples = EEGa.shape"
      ],
      "metadata": {
        "id": "gE-okh-4u0SR"
      },
      "execution_count": null,
      "outputs": []
    },
    {
      "cell_type": "markdown",
      "source": [
        "With this syntax:\n",
        "\n",
        "we assign the variable `ntrials` to the value `EEGa.shape[0]`, which is the number of rows.\n",
        "\n",
        "we assign the variable `nsamples` to the value `EEGa.shape[1]`, which is the number of columns."
      ],
      "metadata": {
        "id": "G6ndrjjOu7rM"
      }
    },
    {
      "cell_type": "markdown",
      "source": [
        "Both `EEGb` and `EEGa` are complicated variables that contain many elements. To understand these data, we might attempt to read the values contained in each element. To do this, try printing out the data for the first trial of <code>EEGa</code>."
      ],
      "metadata": {
        "id": "3zKvS6XbvsZK"
      }
    },
    {
      "cell_type": "code",
      "source": [
        "# Your code here!"
      ],
      "metadata": {
        "id": "daD431u_v2yS"
      },
      "execution_count": null,
      "outputs": []
    },
    {
      "cell_type": "markdown",
      "source": [
        "What do you find? Does this help you understand the data?"
      ],
      "metadata": {
        "id": "DlJaSTgOv-CX"
      }
    },
    {
      "cell_type": "markdown",
      "source": [
        "What happens if we plot the first trial?"
      ],
      "metadata": {
        "id": "JYb4ggLBwD66"
      }
    },
    {
      "cell_type": "code",
      "source": [
        "# Plotting the first trial of EEGa\n",
        "\n",
        "plt.plot(EEGa[0])"
      ],
      "metadata": {
        "id": "gJNxtzakwJVv"
      },
      "execution_count": null,
      "outputs": []
    },
    {
      "cell_type": "markdown",
      "source": [
        "Question: What is plotted on the x-axis? Why does the x-axis go from 0 to 500?"
      ],
      "metadata": {
        "id": "b-7QXCGcwhm3"
      }
    },
    {
      "cell_type": "markdown",
      "source": [
        "It would be more informative to plot the EEG data as a function of time rather than indices. Fortunately, we possess a variable `time` in the workspace that corresponds to the time axis. Determining the size of the variable `time`, we find it is a vector with 1 row and 500 columns. Each column corresponds to a point in time."
      ],
      "metadata": {
        "id": "3o_fWcUIwqH8"
      }
    },
    {
      "cell_type": "markdown",
      "source": [
        "><b>Task:</b> Plot the <code>time</code> variable in the code cell below. Does the plot output make sense? What is being plotted? You can find the range of <code>time</code> by using the <code>np.ptp</code> method. What is its range?"
      ],
      "metadata": {
        "id": "tMRfDU9uw9Z2"
      }
    },
    {
      "cell_type": "code",
      "source": [
        "# Your code here!"
      ],
      "metadata": {
        "id": "pWM16pDLxr53"
      },
      "execution_count": null,
      "outputs": []
    },
    {
      "cell_type": "markdown",
      "source": [
        "Based on the results above: What do you think the units of <code>time</code> are?"
      ],
      "metadata": {
        "id": "Z80gj-v3xtDj"
      }
    },
    {
      "cell_type": "markdown",
      "source": [
        "We can use the variable <code>time</code> to determine the **sampling interval**, or the amount of time in between samples:"
      ],
      "metadata": {
        "id": "TQUmOTltyP5g"
      }
    },
    {
      "cell_type": "code",
      "source": [
        "dt = time[1] - time[0]  # Determine the sampling interval"
      ],
      "metadata": {
        "id": "CRLah-hbyZvN"
      },
      "execution_count": null,
      "outputs": []
    },
    {
      "cell_type": "markdown",
      "source": [
        "><b>Task:</b> Print the value of <code>dt</code> below. We know that the sampling frequency for our data is 500 Hz. Is the value of <code>dt</code> consistent with that sampling frequency? Write a mathematical expression to prove that the two values line up."
      ],
      "metadata": {
        "id": "dO2rZAwSyhRw"
      }
    },
    {
      "cell_type": "code",
      "source": [
        "# Your code here!"
      ],
      "metadata": {
        "id": "Bl93p9hryzDz"
      },
      "execution_count": null,
      "outputs": []
    },
    {
      "cell_type": "markdown",
      "source": [
        "We can now combine the time axis with the EEG data to make a more complete plot. Let’s also label the axes and give the plot a title."
      ],
      "metadata": {
        "id": "hidwM30MzAKD"
      }
    },
    {
      "cell_type": "code",
      "source": [
        "plt.plot(time, EEGa[0])                     # Plot condition A, trial 1 data vs t.\n",
        "plt.xlabel('Time [s]')                   # Label the x-axis as time.\n",
        "plt.ylabel('Voltage [$\\mu$ V]')          # Label the y-axis as voltage.\n",
        "plt.title('EEG data from condition A, Trial 1')  # Add a title\n",
        "\n",
        "# Add a vertical line to indicate the stimulus time\n",
        "plt.plot([0.25, 0.25], [-4,4], 'k', lw=2)\n"
      ],
      "metadata": {
        "id": "Te8lsgQFzB5Q"
      },
      "execution_count": null,
      "outputs": []
    },
    {
      "cell_type": "markdown",
      "source": [
        "This plot provides a nice summary of the data in the first trial of condition A (high-pitch tones). Visual inspection of the plot suggests that these data exhibit complicated activity. We know that the stimulus occurs at time 0.25 s in each trial. Note how we indicated this time as a vertical line in the plot above. This command includes additional options that make the line black (`'k'`) and a bit wider (`lw=2`)."
      ],
      "metadata": {
        "id": "QU8Azg9TzYOb"
      }
    },
    {
      "cell_type": "markdown",
      "source": [
        "Question: What else, if anything, can you say about the single trial of EEG data plotted above? Does the visual inspection reveal any particular change in the EEG activity following the stimulus presentation?"
      ],
      "metadata": {
        "id": "oNLPUcx3zlGH"
      }
    },
    {
      "cell_type": "markdown",
      "source": [
        "So far we have visualized only the data from condition A. Because we are interested in whether the EEG behaves differently in the two conditions, visualizing both conditions simultaneously would be of use. We can do this as follows:"
      ],
      "metadata": {
        "id": "xrgDvaNrzp32"
      }
    },
    {
      "cell_type": "code",
      "source": [
        "plt.figsize=(12, 3)     # Resize the figure to make it easier to see\n",
        "plt.plot(time,EEGa[0])                 # Plot condition A, trial 1, data vs t,\n",
        "plt.plot(time,EEGb[0], 'r')            # ... and the data from condition B, trial 1,\n",
        "plt.xlabel('Time [s]')              # Label the x-axis as time.\n",
        "plt.ylabel('Voltage [\\mu V]')       # Label the y-axis as voltage.\n",
        "plt.title('EEG data from conditions A (blue) and B (red), Trial 1') # And give it a title.\n"
      ],
      "metadata": {
        "id": "mLsiw6-UzrzB"
      },
      "execution_count": null,
      "outputs": []
    },
    {
      "cell_type": "markdown",
      "source": [
        "><b>Task:</b> Repeat this visual inspection for the first four trials. Plot each trial in a new subplot. Do this manually first, and then create a <code>for</code> loop that does it for you!"
      ],
      "metadata": {
        "id": "TZJag8Jr0JsR"
      }
    },
    {
      "cell_type": "code",
      "source": [
        "# Your code here!"
      ],
      "metadata": {
        "id": "nuYeLg730q-R"
      },
      "execution_count": null,
      "outputs": []
    },
    {
      "cell_type": "markdown",
      "source": [
        "These techniques allow us to visualize the data one trial at a time. That is useful but can be time consuming, especially for a large number of trials. For the EEG data of interest here, each condition contains 1,000 trials, and to visualize each trial separately could require 2,000 plots. We can certainly create 2,000 plots, but the subsequent visual inspection would be time consuming and difficult. Fortunately, a more efficient visualization approach exists: we can display the entire structure of the data across both time and trials as an image:"
      ],
      "metadata": {
        "id": "fQRQyJP000BK"
      }
    },
    {
      "cell_type": "code",
      "source": [
        "plt.imshow(EEGa,                                   # Image the data from condition A.\n",
        "           cmap='BuPu',                            # ... set the colormap (optional)\n",
        "           extent=[time[0], time[-1], 1, ntrials],       # ... set axis limits (t[-1] represents the last element of t)\n",
        "           aspect='auto',                          # ... set aspect ratio\n",
        "           origin='lower')                         # ... put origin in lower left corner\n",
        "plt.xlabel('Time[s]')                              # Label the axes\n",
        "plt.ylabel('Trial #')\n",
        "plt.colorbar()                                     # Show voltage to color mapping\n",
        "plt.vlines(0.25, 1, 1000, 'k', lw=2)               # Indicate stimulus onset with line\n"
      ],
      "metadata": {
        "id": "a-rASDxT07u6"
      },
      "execution_count": null,
      "outputs": []
    },
    {
      "cell_type": "markdown",
      "source": [
        "The `imshow` command allows us to visualize the entire matrix EEGa as a function of trial number and time. Each row corresponds to a single trial of duration 1 s, and the color indicates the voltage, with darker (lighter) colors indicating higher (lower) voltages. This plot also indicates the time of stimulus presentation with a vertical black line as a cue to assist visual inspection."
      ],
      "metadata": {
        "id": "u1dNnhqO1fXJ"
      }
    },
    {
      "cell_type": "markdown",
      "source": [
        "><b>Task:</b> There are many other color options - to see them all, use <code>plt.colormaps?</code>. Re-run the code cell above to try some different options!"
      ],
      "metadata": {
        "id": "AZTskm6u1jG-"
      }
    },
    {
      "cell_type": "markdown",
      "source": [
        "Question: Upon close inspection of the figure above, what response, if any, do you observe following the stimulus presentation? (Look really carefully.) Repeat this visualization and analysis for `EEGb`. How do the two conditions compare?"
      ],
      "metadata": {
        "id": "9bcynH8x2D3E"
      }
    },
    {
      "cell_type": "markdown",
      "source": [
        "Visual inspection of the EEG data has so far come up empty. The EEG traces appear noisy or perhaps rhythmic, but from visual inspection of the individual trials it’s difficult to make a decisive conclusion of underlying structurefig. To further investigate the activity in these data, we compute the event-related potential (ERP).\n",
        "\n",
        "To compute the ERP, we first assume that each trial evokes an instantiation of the same underlying brain process. So, in this case, we assume that the same brain response is evoked 1,000 times (once for each trial) for each condition. However, the evoked response due to the stimulus is small and hidden in the EEG signal by other ongoing activity unrelated to the stimulus (e.g., daydreaming, thoughts of dinner, thoughts of homework). Therefore, to tease out the weak evoked effect, we average the EEG responses across trials. Ideally, EEG activity unrelated to the stimulus will cancel out in the average, while EEG activity evoked by the stimulus will sum constructively. The procedure to perform and display this averaging can be done in Python as follows:"
      ],
      "metadata": {
        "id": "CGTTHxTM2M35"
      }
    },
    {
      "cell_type": "code",
      "source": [
        "plt.plot(time, EEGa.mean(0))        # Plot the ERP of condition A\n",
        "plt.xlabel('Time [s]')           # Label the axes\n",
        "plt.ylabel('Voltage [$\\mu V$]')\n",
        "plt.title('ERP of condition A')  # ... provide a title\n",
        "\n",
        ""
      ],
      "metadata": {
        "id": "j0aSk8cN2wyl"
      },
      "execution_count": null,
      "outputs": []
    },
    {
      "cell_type": "markdown",
      "source": [
        "In the first line, we compute the mean of `EEGa` using the method `mean()` (see the documentation for this function [here]('https://numpy.org/doc/stable/reference/generated/numpy.mean.html')). The default behavior is to compute the mean of all elements of the array. By calling EEG.mean(0), we compute the mean along the zeroth dimension. The result is the ERP for condition A."
      ],
      "metadata": {
        "id": "uFYjZtmW274e"
      }
    },
    {
      "cell_type": "markdown",
      "source": [
        "><b>Task:</b> Consider the ERP for condition A plotted above. Update this figure to include a vertical line at the location of the stimulus, and the ERP for condition B. How, if at all, do the ERPs for Conditions A and B differ?"
      ],
      "metadata": {
        "id": "pq72Rf4M3Kx3"
      }
    },
    {
      "cell_type": "markdown",
      "source": [
        "><b>Task:</b> Add the following line of code to your code cell above: <code>plt.hlines(0, time[0], time[-1])</code>. Run the code cell below. What does it do to your plot? Why would you want this in your plot? Based on this change in your plot, do you think that there is indeed some kind of change in the EEG that happens consistently during stimulus presentation?"
      ],
      "metadata": {
        "id": "5neNH7zw30DC"
      }
    }
  ]
}