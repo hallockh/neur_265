{
  "nbformat": 4,
  "nbformat_minor": 0,
  "metadata": {
    "colab": {
      "provenance": [],
      "authorship_tag": "ABX9TyP2Z6K5JTpS3PushHUd1vcE",
      "include_colab_link": true
    },
    "kernelspec": {
      "name": "python3",
      "display_name": "Python 3"
    },
    "language_info": {
      "name": "python"
    }
  },
  "cells": [
    {
      "cell_type": "markdown",
      "metadata": {
        "id": "view-in-github",
        "colab_type": "text"
      },
      "source": [
        "<a href=\"https://colab.research.google.com/github/hallockh/neur_265/blob/main/notebooks/scRNASeq_04_15_24.ipynb\" target=\"_parent\"><img src=\"https://colab.research.google.com/assets/colab-badge.svg\" alt=\"Open In Colab\"/></a>"
      ]
    },
    {
      "cell_type": "markdown",
      "source": [
        "#RNA-Sequencing: Single-Cell\n",
        "\n",
        "DNA makes RNA makes Protein. This “Central Dogma” of molecular biology is a fundamental concept in molecular biology. With the development of DNA sequencing, we can explore the genome - all of the DNA in an organism. However, DNA is only the starting point. To understand what genes are active, and under what circumstances, we have to know what genes are being transcribed into messenger RNA. Starting from the first cell - in, for example, a human or a mouse - every other cell differentiates itself not by having different DNA, but by expressing (transcribing) those genes differently. A cell in the liver has the same DNA instructions as a neuron in the brain. However the genes being expressed differ greatly between these cells. The sum of all RNAs being expressed in a cell is known as the transcriptome."
      ],
      "metadata": {
        "id": "s5Pbhz8tYvjb"
      }
    },
    {
      "cell_type": "markdown",
      "source": [
        "##By the end of this notebook, you will be able to:\n",
        "\n",
        "- Cluster single-cell RNA-sequencing (scRNA-seq) data by marker gene\n",
        "- Map different \"types\" of cells onto each cluster\n",
        "- Compare gene expression between clusters"
      ],
      "metadata": {
        "id": "s0iVfoH1ZDCA"
      }
    },
    {
      "cell_type": "markdown",
      "source": [
        "##Introduction\n",
        "\n",
        "RNA-Seq is a widely-used experiment that has become one of the most important ways to characterize the transcriptome. There are several variations, details, and statistics we are glossing over, but at it’s most basic we use an RNA-Seq experiment to ask the question - “does the gene expression in a control sample differ from the gene expression in an experimental sample?”"
      ],
      "metadata": {
        "id": "0TCiDBxCZe9y"
      }
    },
    {
      "cell_type": "markdown",
      "source": [
        "<img src = 'https://drive.google.com/uc?id=1ixFHqXm2_WBfwWqBIk0eAguqfafN3w-Y'>"
      ],
      "metadata": {
        "id": "DbwYDe3cZxpH"
      }
    },
    {
      "cell_type": "markdown",
      "source": [
        "##Steps for RNA-Sequencing\n",
        "\n",
        "1. RNA is extracted from an organism of interest. Choices must be made at this stage about sampling of the organisms, since not all RNAs of interest may be present in every tissue and at all times. RNA is also easily degraded, and the extraction procedure can introduce biases into the collected sample. How we extract samples defines our experimental design. Typically we will sample at least two distinct groups (e.g. wild-type/mutant, healthy/disease, or control/experimental). We also will have several biological replicates since all our sampling will contain biases.\n",
        "\n",
        "2. Several biochemical steps are taken to prepare extracted RNA into a sequencing library. RNA is converted into stable cDNA and undesired RNA (e.g. ribosomal RNA) is removed. Adaptors are attached to the cDNAs.\n",
        "\n",
        "3. There are a variety of sequencing platforms that can generate the sequence of a prepared library. In the popular illumina protocol, millions of short cDNA fragments will be generated (usually 100-300bp in size).\n",
        "\n",
        "4. Following sequencing, the RNA-Seq reads are quality controlled and then software is used to align and or assemble these reads for further analysis."
      ],
      "metadata": {
        "id": "P3qNsMkbZ6gS"
      }
    },
    {
      "cell_type": "markdown",
      "source": [
        "##Single-Cell RNA-Sequencing\n",
        "\n",
        "One disadvantage to RNA-sequencing is that tissue is homogenized prior to RNA extraction. Brain tissue is heterogenous, containing many different types of cells (astrocytes, neurons, interneurons, *Pval* neurons, *Sst* neurons, etc.). Typical bulk RNA-sequencing strategies do not capture how the transcriptome might vary between these cell types. In order to analyze cell type-specific gene expression, we need to employ a technique called single-cell RNA-sequencing (scRNA-seq)."
      ],
      "metadata": {
        "id": "jblMup4raMO8"
      }
    },
    {
      "cell_type": "markdown",
      "source": [
        "<img src = 'https://drive.google.com/uc?id=1QZVeic1CD3z6LK3GI_cDiBbE94GeeURk'>"
      ],
      "metadata": {
        "id": "tJR9-DzzbI2X"
      }
    },
    {
      "cell_type": "markdown",
      "source": [
        "In this technique, individual cells are identified based on presence of a specific marker gene, and then sorted into distinct compartments."
      ],
      "metadata": {
        "id": "WqVOA0j9bQbA"
      }
    },
    {
      "cell_type": "markdown",
      "source": [
        "##Case Study Data\n",
        "\n",
        "Today, we're going to look at a sample of peripheral blood monocyte cells, and see if we can differentiate types of cells from one another based on clusters of gene expression. This dataset has already been pre-processed."
      ],
      "metadata": {
        "id": "428-oFuCb5rK"
      }
    },
    {
      "cell_type": "code",
      "execution_count": null,
      "metadata": {
        "id": "d6Z1yGohwtJc"
      },
      "outputs": [],
      "source": [
        "# Import some modules\n",
        "\n",
        "!pip install scanpy\n",
        "!pip install leidenalg\n",
        "import scanpy as sc\n",
        "import pandas as pd\n",
        "from matplotlib.pyplot import rc_context"
      ]
    },
    {
      "cell_type": "markdown",
      "source": [
        "We're going to use a <code>Python</code> package called <code>scanpy</code> to visualize our scRNA-seq data."
      ],
      "metadata": {
        "id": "Pvi1i0Wec_0P"
      }
    },
    {
      "cell_type": "code",
      "source": [
        "sc.set_figure_params(dpi=100, color_map = 'viridis_r')\n",
        "sc.settings.verbosity = 1\n",
        "sc.logging.print_header()"
      ],
      "metadata": {
        "id": "GDd0nNq8w-Aj"
      },
      "execution_count": null,
      "outputs": []
    },
    {
      "cell_type": "markdown",
      "source": [
        "Let's use <code>scanpy</code> to load in our scRNA-seq dataset."
      ],
      "metadata": {
        "id": "jqAUb__zd2bj"
      }
    },
    {
      "cell_type": "code",
      "source": [
        "pbmc = sc.datasets.pbmc68k_reduced()"
      ],
      "metadata": {
        "id": "35yaX4YxxFil"
      },
      "execution_count": null,
      "outputs": []
    },
    {
      "cell_type": "markdown",
      "source": [
        "><b>Task:</b> Inspect the contents of the <code>pmbc</code> dataset that you loaded in. Check the <code>type</code> of your data."
      ],
      "metadata": {
        "id": "pbZFgi51eAOY"
      }
    },
    {
      "cell_type": "code",
      "source": [
        "# Look at your data here!\n"
      ],
      "metadata": {
        "id": "nW4eC3VseQPH"
      },
      "execution_count": null,
      "outputs": []
    },
    {
      "cell_type": "markdown",
      "source": [
        "A common way of visualizing scRNA-seq data is with a UMAP plot. UMAP is a way of clustering data - similar to the K-means clustering analysis we performed on our calcium imaging data. Here, we're trying to assign clusters based on patterns of gene expression. We can then map the expression of specific genes of interest onto our clusters. Let's start with the gene \"CD79A\", which is a marker gene for a specific type of white blood cell, called a B-cell:"
      ],
      "metadata": {
        "id": "dssvRvaAe8yD"
      }
    },
    {
      "cell_type": "code",
      "source": [
        "with rc_context({'figure.figsize': (4, 4)}):\n",
        "    sc.pl.umap(pbmc, color='CD79A')"
      ],
      "metadata": {
        "id": "kptTuFVqxs5E"
      },
      "execution_count": null,
      "outputs": []
    },
    {
      "cell_type": "markdown",
      "source": [
        "><b>Task:</b> Try re-creating your heat map with other marker genes. Specifically, you can use \"CD79B\", \"MS4A1\", \"LTB\", \"IGJ\", \"MZB1\", \"SPCS2\", \"FKBP11\", \"HNRNPA1\", \"NPM1\", \"SNHG7\", \"RPS24\", \"CD3D\", \"LDHB\", \"AES\", \"CD3E\", \"NKG7\", \"CTSW\", \"GZMA\", \"GNLY\", \"FTL\", \"AIF1\", \"LST1\", \"FCGR3A\", \"PPP1R14A\", \"GPX1\", \"PLAC8\", \"S100A10\", \"FCER1A\", \"LYZ\", \"HLA-DRB1\", \"HLA-DRA\", \"IRF8\", \"HLA-DPA1\", \"CPVL\", and \"CST3\"."
      ],
      "metadata": {
        "id": "9_3Oun1aiQT8"
      }
    },
    {
      "cell_type": "markdown",
      "source": [
        "><b>Task:</b> Go to the [NCBI website]('https://www.ncbi.nlm.nih.gov/gene/') and research one of the above marker genes. What does your marker gene do? Where is it known to be expressed?"
      ],
      "metadata": {
        "id": "XSPPA4wLjBVf"
      }
    },
    {
      "cell_type": "markdown",
      "source": [
        "We can make a bunch of UMAP plots showing expression levels of multiple genes:"
      ],
      "metadata": {
        "id": "CdjWeyE2jcn1"
      }
    },
    {
      "cell_type": "code",
      "source": [
        "with rc_context({'figure.figsize': (3, 3)}):\n",
        "    sc.pl.umap(pbmc, color=['CD79A', 'MS4A1', 'IGJ', 'CD3D', 'FCER1A', 'FCGR3A', 'n_counts', 'bulk_labels'], s=50, frameon=False, ncols=4, vmax='p99')"
      ],
      "metadata": {
        "id": "eKVeyy8Yx3Bx"
      },
      "execution_count": null,
      "outputs": []
    },
    {
      "cell_type": "markdown",
      "source": [
        "Question: What seem to be some good marker genes for our data? Take the gene \"FCGR3A\", for example - which cell type does this gene appear to come from? Take a look at the \"n_counts\" plot - in this case, \"counts\" correspond roughly to the number of transcripts detected. Which cell type expresses the most genes in our sample?"
      ],
      "metadata": {
        "id": "uDVoILCzkSFv"
      }
    },
    {
      "cell_type": "markdown",
      "source": [
        "The functions for scatterplots have many options that allow fine tuning of the images. For example, we can look at the clustering as follows:"
      ],
      "metadata": {
        "id": "oHRI0lDMlLNO"
      }
    },
    {
      "cell_type": "code",
      "source": [
        "# compute clusters using the leiden method and store the results with the name `clusters`\n",
        "sc.tl.leiden(pbmc, key_added='clusters', resolution=0.5)"
      ],
      "metadata": {
        "id": "gbqbztO5EH2X"
      },
      "execution_count": null,
      "outputs": []
    },
    {
      "cell_type": "code",
      "source": [
        "with rc_context({'figure.figsize': (5, 5)}):\n",
        "    sc.pl.umap(pbmc, color='clusters', add_outline=True, legend_loc='on data',\n",
        "               legend_fontsize=12, legend_fontoutline=2,frameon=False,\n",
        "               title='clustering of cells', palette='Set1')"
      ],
      "metadata": {
        "id": "BhQSeK_hEZ-A"
      },
      "execution_count": null,
      "outputs": []
    },
    {
      "cell_type": "markdown",
      "source": [
        "><b>Task:</b> Re-plot your UMAP using different color palettes. For a list of colormap options, look [here]('https://matplotlib.org/stable/tutorials/colors/colormaps.html')."
      ],
      "metadata": {
        "id": "6oEU6KaXl4IQ"
      }
    },
    {
      "cell_type": "markdown",
      "source": [
        "##Identification of Clusters Based on Known Marker Genes\n",
        "\n",
        "Frequently, clusters need to be labelled using well known marker genes. Using scatter plots we can see the expression of a gene and perhaps associate it with a cluster. Here, we will show other visual ways to associate marker genes to clusters using dotplots, violin plots, heatmaps and something that we call ‘tracksplot’. All of these visualizations summarize the same information, expression split by cluster, and the selection of the best results is left to the investigator do decide.\n",
        "\n",
        "First, we set up a dictionary with the marker genes, as this will allow `scanpy` to automatically label the groups of genes:"
      ],
      "metadata": {
        "id": "SHwmNiZ7mA4Y"
      }
    },
    {
      "cell_type": "code",
      "source": [
        "marker_genes_dict = {\n",
        "    'B-cell': ['CD79A', 'MS4A1'],\n",
        "    'Dendritic': ['FCER1A', 'CST3'],\n",
        "    'Monocytes': ['FCGR3A'],\n",
        "    'NK': ['GNLY', 'NKG7'],\n",
        "    'Other': ['IGLL1'],\n",
        "    'Plasma': ['IGJ'],\n",
        "    'T-cell': ['CD3D'],\n",
        "}"
      ],
      "metadata": {
        "id": "jdLB-kyNEdia"
      },
      "execution_count": null,
      "outputs": []
    },
    {
      "cell_type": "markdown",
      "source": [
        "A quick way to check the expression of these genes per cluster is to using a dotplot. This type of plot summarizes two types of information: the color represents the mean expression within each of the categories (in this case in each cluster) and the dot size indicates the fraction of cells in the categories expressing a gene.\n",
        "\n",
        "Also, it is also useful to add a dendrogram to the graph to bring together similar clusters. The hierarchical clustering is computed automatically using the correlation of the PCA components between the clusters:"
      ],
      "metadata": {
        "id": "sQEREjqwmSrd"
      }
    },
    {
      "cell_type": "code",
      "source": [
        "sc.pl.dotplot(pbmc, marker_genes_dict, 'clusters', dendrogram=True)"
      ],
      "metadata": {
        "id": "ehA0uk65EerC"
      },
      "execution_count": null,
      "outputs": []
    },
    {
      "cell_type": "markdown",
      "source": [
        "Using this plot, we can see that cluster 4 correspond to B-cells, cluster 2 is T-cells etc. This information can be used to manually annotate the cells as follows:"
      ],
      "metadata": {
        "id": "COLWxQb7mcDt"
      }
    },
    {
      "cell_type": "code",
      "source": [
        "# create a dictionary to map cluster to annotation label\n",
        "cluster2annotation = {\n",
        "     '0': 'Monocytes',\n",
        "     '1': 'Dendritic',\n",
        "     '2': 'T-cell',\n",
        "     '3': 'NK',\n",
        "     '4': 'B-cell',\n",
        "     '5': 'Dendritic',\n",
        "     '6': 'Plasma',\n",
        "     '7': 'Other',\n",
        "     '8': 'Dendritic',\n",
        "}\n",
        "\n",
        "# add a new `.obs` column called `cell type` by mapping clusters to annotation using pandas `map` function\n",
        "pbmc.obs['cell type'] = pbmc.obs['clusters'].map(cluster2annotation).astype('category')"
      ],
      "metadata": {
        "id": "aO6etqjLEldK"
      },
      "execution_count": null,
      "outputs": []
    },
    {
      "cell_type": "code",
      "source": [
        "sc.pl.dotplot(pbmc, marker_genes_dict, 'cell type', dendrogram=True)"
      ],
      "metadata": {
        "id": "l0s924XaEoiC"
      },
      "execution_count": null,
      "outputs": []
    },
    {
      "cell_type": "code",
      "source": [
        "sc.pl.umap(pbmc, color='cell type', legend_loc='on data',\n",
        "           frameon=False, legend_fontsize=10, legend_fontoutline=2)"
      ],
      "metadata": {
        "id": "53o6WZAZE0Tc"
      },
      "execution_count": null,
      "outputs": []
    },
    {
      "cell_type": "markdown",
      "source": [
        "A different way to explore the markers is with violin plots. Here we can see the expression of \"CD79A\" in clusters 5 and 8, and \"MS4A1\" in cluster 5.Compared to a dotplot, the violin plot gives us and idea of the distribution of gene expression values across cells."
      ],
      "metadata": {
        "id": "bwSfZj3BmyvR"
      }
    },
    {
      "cell_type": "code",
      "source": [
        "with rc_context({'figure.figsize': (4.5, 3)}):\n",
        "    sc.pl.violin(pbmc, ['CD79A', 'MS4A1'], groupby='clusters' )"
      ],
      "metadata": {
        "id": "oMMKDaBvE4MZ"
      },
      "execution_count": null,
      "outputs": []
    },
    {
      "cell_type": "markdown",
      "source": [
        "><b>Task:</b> Create violin plots of different genes in the <code>pmbc</code> dataset. What do the distributions of these genes across cells in each cluster look like? Do cell types have normally distributed patterns of gene expression?"
      ],
      "metadata": {
        "id": "BBhAcggCm7er"
      }
    },
    {
      "cell_type": "markdown",
      "source": [
        "**Note**: Violin plots can also be used to plot any numerical value stored in `.obs`. For example, here violin plots are used to compare the number of genes and the percentage of mitochondrial genes between the different clusters:"
      ],
      "metadata": {
        "id": "YL6sQIrxnTAa"
      }
    },
    {
      "cell_type": "code",
      "source": [
        "with rc_context({'figure.figsize': (4.5, 3)}):\n",
        "    sc.pl.violin(pbmc, ['n_genes', 'percent_mito'], groupby='clusters', stripplot=False, inner='box')  # use stripplot=False to remove the internal dots, inner='box' adds a boxplot inside violins"
      ],
      "metadata": {
        "id": "NPVZu9LuE8m9"
      },
      "execution_count": null,
      "outputs": []
    },
    {
      "cell_type": "markdown",
      "source": [
        "To simultaneously look at the violin plots for all marker genes we use `sc.pl.stacked_violin`. As previously, a dendrogram was added to group similar clusters."
      ],
      "metadata": {
        "id": "x1TZyEwLnsUf"
      }
    },
    {
      "cell_type": "code",
      "source": [
        "ax = sc.pl.stacked_violin(pbmc, marker_genes_dict, groupby='clusters', swap_axes=False, dendrogram=True)"
      ],
      "metadata": {
        "id": "sJ4mNMAvFB6z"
      },
      "execution_count": null,
      "outputs": []
    },
    {
      "cell_type": "markdown",
      "source": [
        "A simple way to visualize the expression of genes is with a matrix plot. This is a heatmap of the mean expression values per gene grouped by categories. This type plot basically shows the same information as the color in the dotplots.\n",
        "\n",
        "Here, scale the expression of the genes from 0 to 1, being the maximum mean expression and 0 the minimum."
      ],
      "metadata": {
        "id": "Vc22JzAJn4ET"
      }
    },
    {
      "cell_type": "code",
      "source": [
        "sc.pl.matrixplot(pbmc, marker_genes_dict, 'clusters', dendrogram=True, cmap='Blues', standard_scale='var', colorbar_title='column scaled\\nexpression')"
      ],
      "metadata": {
        "id": "1_DNCYyLFGTQ"
      },
      "execution_count": null,
      "outputs": []
    },
    {
      "cell_type": "markdown",
      "source": [
        "><b>Task:</b> Make your matrix plot different colors by changing the <code>cmap</code> input!"
      ],
      "metadata": {
        "id": "XSOfxgKxn9tP"
      }
    },
    {
      "cell_type": "markdown",
      "source": [
        "One other useful option is to normalize the gene expression using `sc.pp.scale`. Here we store this information under the `scale` layer. Afterwards we adjust the plot min and max and use a diverging color map (in this case `RdBu_r` where `_r` means reversed)."
      ],
      "metadata": {
        "id": "bWeQwNzVoVue"
      }
    },
    {
      "cell_type": "code",
      "source": [
        "# scale and store results in layer\n",
        "pbmc.layers['scaled'] = sc.pp.scale(pbmc, copy=True).X"
      ],
      "metadata": {
        "id": "hR3breOiFJZs"
      },
      "execution_count": null,
      "outputs": []
    },
    {
      "cell_type": "code",
      "source": [
        "sc.pl.matrixplot(pbmc, marker_genes_dict, 'clusters', dendrogram=True,\n",
        "                 colorbar_title='mean z-score', layer='scaled', vmin=-2, vmax=2, cmap='RdBu_r')"
      ],
      "metadata": {
        "id": "C7li-lOqFLfC"
      },
      "execution_count": null,
      "outputs": []
    },
    {
      "cell_type": "markdown",
      "source": [
        "##Combining Plots in Subplots\n",
        "\n",
        "An `axis` can be passed to a plot to combine multiple outputs as in the following example:"
      ],
      "metadata": {
        "id": "pE-7FALyojEb"
      }
    },
    {
      "cell_type": "code",
      "source": [
        "import matplotlib.pyplot as plt\n",
        "\n",
        "fig, (ax1, ax2, ax3) = plt.subplots(1, 3, figsize=(20,4), gridspec_kw={'wspace':0.9})\n",
        "\n",
        "ax1_dict = sc.pl.dotplot(pbmc, marker_genes_dict, groupby='bulk_labels', ax=ax1, show=False)\n",
        "ax2_dict = sc.pl.stacked_violin(pbmc, marker_genes_dict, groupby='bulk_labels', ax=ax2, show=False)\n",
        "ax3_dict = sc.pl.matrixplot(pbmc, marker_genes_dict, groupby='bulk_labels', ax=ax3, show=False, cmap='viridis')"
      ],
      "metadata": {
        "id": "8WTgGpHJFPwd"
      },
      "execution_count": null,
      "outputs": []
    },
    {
      "cell_type": "markdown",
      "source": [
        "Heatmaps do not collapse cells as in previous plots. Instead, each cell is shown in a row (or column if `swap_axes=True`). The groupby information can be added and is shown using the same color code found for `sc.pl.umap` or any other embedding."
      ],
      "metadata": {
        "id": "IDVJv9ipqPK4"
      }
    },
    {
      "cell_type": "code",
      "source": [
        "ax = sc.pl.heatmap(pbmc, marker_genes_dict, groupby='clusters', cmap='viridis', dendrogram=True)"
      ],
      "metadata": {
        "id": "wbKJyZRIFUbL"
      },
      "execution_count": null,
      "outputs": []
    },
    {
      "cell_type": "markdown",
      "source": [
        "><b>Task:</b> Swap the axes for the heatmap above to put cells on the x-axis instead of the y-axis."
      ],
      "metadata": {
        "id": "3tv5h67TqgOX"
      }
    },
    {
      "cell_type": "markdown",
      "source": [
        "The heatmap can also be plotted on scaled data. In the next image, similar to the previus matrix plot the min and max had been adjusted and a divergent color map is used."
      ],
      "metadata": {
        "id": "F4Oa4-rTqoDn"
      }
    },
    {
      "cell_type": "code",
      "source": [
        "ax = sc.pl.heatmap(pbmc, marker_genes_dict, groupby='clusters', layer='scaled', vmin=-2, vmax=2, cmap='RdBu_r', dendrogram=True, swap_axes=True, figsize=(11,4))\n"
      ],
      "metadata": {
        "id": "MAb4V1OcFbJp"
      },
      "execution_count": null,
      "outputs": []
    },
    {
      "cell_type": "markdown",
      "source": [
        "The track plot shows the same information as the heatmap, but, instead of a color scale, the gene expression is represented by height."
      ],
      "metadata": {
        "id": "a7G6p-Psqs7n"
      }
    },
    {
      "cell_type": "code",
      "source": [
        "ax = sc.pl.tracksplot(pbmc, marker_genes_dict, groupby='clusters', dendrogram=True)"
      ],
      "metadata": {
        "id": "v8UhZfHqrF1o"
      },
      "execution_count": null,
      "outputs": []
    },
    {
      "cell_type": "markdown",
      "source": [
        "##Visualization of Marker Genes\n",
        "\n",
        "Instead of characterizing clusters by known gene markers as previously, we can identify genes that are differentially expressed in the clusters or groups.\n",
        "\n",
        "To identify differentially expressed genes we run `sc.tl.rank_genes_groups`. This function will take each group of cells and compare the distribution of each gene in a group against the distribution in all other cells not in the group. Here, we will use the original cell labels given by 10x to identify marker genes for those cell types."
      ],
      "metadata": {
        "id": "r33xhx0cqwEs"
      }
    },
    {
      "cell_type": "code",
      "source": [
        "sc.tl.rank_genes_groups(pbmc, groupby='clusters', method='wilcoxon')\n"
      ],
      "metadata": {
        "id": "moj2WF4SFi2F"
      },
      "execution_count": null,
      "outputs": []
    },
    {
      "cell_type": "markdown",
      "source": [
        "The dotplot visualization is useful to get an overview of the genes that show differential expression. To make the resulting image more compact we will use `n_genes=4` to show only the top 4 scoring genes."
      ],
      "metadata": {
        "id": "mboHGTAUrLUL"
      }
    },
    {
      "cell_type": "code",
      "source": [
        "sc.pl.rank_genes_groups_dotplot(pbmc, n_genes=4)\n"
      ],
      "metadata": {
        "id": "7wCS1GP8Fk4j"
      },
      "execution_count": null,
      "outputs": []
    },
    {
      "cell_type": "markdown",
      "source": [
        "><b>Task:</b> Change the number of differentially-expressed genes to 5, 10, and 2. How does the plot change each time?"
      ],
      "metadata": {
        "id": "SihZX7dorNee"
      }
    },
    {
      "cell_type": "markdown",
      "source": [
        "In order to get a better representation we can plot log fold changes instead of gene expression. Also, we want to focus on genes that have a log fold change >= 3 between the cell type expression and the rest of cells.\n",
        "\n",
        "In this case we set `values_to_plot='logfoldchanges'` and `min_logfoldchange=3`.\n",
        "\n",
        "Because log fold change is a divergent scale we also adjust the min and max to be plotted and use a divergent color map. Notice in the following plot that is rather difficult to distinguish between T-cell populations."
      ],
      "metadata": {
        "id": "m370hp--rxj1"
      }
    },
    {
      "cell_type": "code",
      "source": [
        "sc.pl.rank_genes_groups_dotplot(pbmc, n_genes=4, values_to_plot='logfoldchanges', min_logfoldchange=3, vmax=7, vmin=-7, cmap='bwr')\n"
      ],
      "metadata": {
        "id": "DDp2sHugFseR"
      },
      "execution_count": null,
      "outputs": []
    },
    {
      "cell_type": "markdown",
      "source": [
        "><b>Task:</b> Try changing the <code>vmax</code> and <code>vmin</code> parameters. What do these do? Try changing the <code>min_logfoldchange</code> input to \"5\". What happens to the plot?"
      ],
      "metadata": {
        "id": "EDtY2LQZsLDn"
      }
    },
    {
      "cell_type": "markdown",
      "source": [
        "##Focusing on Particular Groups\n",
        "\n",
        "Next, we use a dotplot focusing only on two groups (the groups option is also available for violin, heatmap and matrix plots). Here, we set `n_genes=30` as in this case it will show all the genes that have a `min_logfoldchange=4` up to 30."
      ],
      "metadata": {
        "id": "Z8IpB8lxsYWX"
      }
    },
    {
      "cell_type": "code",
      "source": [
        "sc.pl.rank_genes_groups_dotplot(pbmc, n_genes=30, values_to_plot='logfoldchanges', min_logfoldchange=4, vmax=7, vmin=-7, cmap='bwr', groups=['1', '5'])\n"
      ],
      "metadata": {
        "id": "YemUiEsYF00F"
      },
      "execution_count": null,
      "outputs": []
    },
    {
      "cell_type": "markdown",
      "source": [
        "><b>Task:</b> Change the groups that you want to look at. How does expression of the 30 genes differ in these groups?"
      ],
      "metadata": {
        "id": "P-PhuAKlskmy"
      }
    },
    {
      "cell_type": "markdown",
      "source": [
        "We can also visualize all of these marker genes in a heatmap:"
      ],
      "metadata": {
        "id": "TgQx2OTms_bK"
      }
    },
    {
      "cell_type": "code",
      "source": [
        "sc.pl.rank_genes_groups_heatmap(pbmc, n_genes=3, use_raw=False, swap_axes=True, vmin=-3, vmax=3, cmap='bwr', layer='scaled', figsize=(10,7), show=False);"
      ],
      "metadata": {
        "id": "qyQlPggnF4db"
      },
      "execution_count": null,
      "outputs": []
    },
    {
      "cell_type": "markdown",
      "source": [
        "Showing 10 genes per category, turning the gene labels off and swapping the axes. Notice that when the image is swapped, a color code for the categories appear instead of the ‘brackets’."
      ],
      "metadata": {
        "id": "lVR3J3motNQl"
      }
    },
    {
      "cell_type": "code",
      "source": [
        "sc.pl.rank_genes_groups_heatmap(pbmc, n_genes=10, use_raw=False, swap_axes=True, show_gene_labels=False,\n",
        "                                vmin=-3, vmax=3, cmap='bwr')"
      ],
      "metadata": {
        "id": "eb5L0Iy2F_hx"
      },
      "execution_count": null,
      "outputs": []
    },
    {
      "cell_type": "markdown",
      "source": [
        "And a tracksplot:"
      ],
      "metadata": {
        "id": "dzGyZkXptUcw"
      }
    },
    {
      "cell_type": "code",
      "source": [
        "sc.pl.rank_genes_groups_tracksplot(pbmc, n_genes=3)\n"
      ],
      "metadata": {
        "id": "NTTUGntUGF8L"
      },
      "execution_count": null,
      "outputs": []
    },
    {
      "cell_type": "markdown",
      "source": [
        "You may have noticed that, as the number of marker genes increases, the clusters get more complex, as there is more cluster overlap between less differentially-expressed gene sets. One way to visualize the divergence between these clusters is with a dendrogram:"
      ],
      "metadata": {
        "id": "2NIpaVh3t4su"
      }
    },
    {
      "cell_type": "code",
      "source": [
        "# compute hierarchical clustering using PCs (several distance metrics and linkage methods are available).\n",
        "sc.tl.dendrogram(pbmc, 'bulk_labels')\n",
        "\n",
        "ax = sc.pl.dendrogram(pbmc, 'bulk_labels')"
      ],
      "metadata": {
        "id": "eamoK2XluKG8"
      },
      "execution_count": null,
      "outputs": []
    },
    {
      "cell_type": "markdown",
      "source": [
        "We can compute correlations between clusters to see how they map onto the dendrogram:"
      ],
      "metadata": {
        "id": "-SMP9jJzuNPg"
      }
    },
    {
      "cell_type": "code",
      "source": [
        "ax = sc.pl.correlation_matrix(pbmc, 'bulk_labels', figsize=(5,3.5))"
      ],
      "metadata": {
        "id": "Hzld-oVauSKm"
      },
      "execution_count": null,
      "outputs": []
    }
  ]
}