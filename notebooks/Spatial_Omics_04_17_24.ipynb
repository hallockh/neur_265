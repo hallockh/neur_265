{
  "nbformat": 4,
  "nbformat_minor": 0,
  "metadata": {
    "colab": {
      "provenance": [],
      "authorship_tag": "ABX9TyN/DR+IINR5Qo+nFQi6nRGk",
      "include_colab_link": true
    },
    "kernelspec": {
      "name": "python3",
      "display_name": "Python 3"
    },
    "language_info": {
      "name": "python"
    }
  },
  "cells": [
    {
      "cell_type": "markdown",
      "metadata": {
        "id": "view-in-github",
        "colab_type": "text"
      },
      "source": [
        "<a href=\"https://colab.research.google.com/github/hallockh/neur_265/blob/main/notebooks/Spatial_Omics_04_17_24.ipynb\" target=\"_parent\"><img src=\"https://colab.research.google.com/assets/colab-badge.svg\" alt=\"Open In Colab\"/></a>"
      ]
    },
    {
      "cell_type": "markdown",
      "source": [
        "#RNA-Sequencing: Spatial Transcriptomics\n",
        "\n",
        "In our last notebook, we covered \"single-cell RNA-sequencing\", which is a special kind of RNA-sequencing that preserves cell identities (in contrast to bulk RNA-sequencing, which is done with homogenized tissue). In this notebook, we will explore \"spatial transcriptomics\" - a special instance of RNA-sequencing that lets you preserve the spatial location (along a brain slice, for instance) of gene expression."
      ],
      "metadata": {
        "id": "i94mF6vDP8sp"
      }
    },
    {
      "cell_type": "markdown",
      "source": [
        "##By the end of this notebook, you will be able to:\n",
        "\n",
        "- Perform quality control on spatial transcriptomics data\n",
        "- Map genes corresponding to bulk labels onto a brain section\n",
        "- Look at how specific genes map onto bulk labeled clusters"
      ],
      "metadata": {
        "id": "r6eZWYzeR97f"
      }
    },
    {
      "cell_type": "markdown",
      "source": [
        "##Introduction\n",
        "\n",
        "<img src = 'https://drive.google.com/uc?id=19C8pMr8v68HweyP-SBxP8NkvC1F3_UL2'>\n",
        "\n",
        "The brain is highly heterogeneous - it contains lots of different types of cells, and these cells are distributed differently in different brain regions.\n",
        "\n",
        "Sometimes, it's useful to know whether clusters of cells that share common patterns of gene expression are also spatially clustered together in common parts of the brain.\n",
        "\n",
        "\"Spatial transcriptomics\" is a technique that lets us achieve this."
      ],
      "metadata": {
        "id": "PfmGvbqeSQdu"
      }
    },
    {
      "cell_type": "markdown",
      "source": [
        "<img src = 'https://drive.google.com/uc?id=16t49zP29crcRrApFc77l5TJ6F76zgn8p'>\n",
        "\n",
        "Spatial transcriptomics involves performing cDNA synthesis directly onto a slice of tissue (taken, for example, from a brain). The tissue is partitioned into distinct spatial compartments (think of these like dots on a piece of mesh), and cDNA synthesis and RNA-sequencing is performed for each dot. The dots receive a special \"barcode\" (a unique genetic sequence added), and this barcode is used to place each dot back onto the tissue slice."
      ],
      "metadata": {
        "id": "UYsMk0o9TND1"
      }
    },
    {
      "cell_type": "markdown",
      "source": [
        "##Case Study Data\n",
        "\n",
        "We will be working with a slice of brain from the human medial temporal lobe (MTL)."
      ],
      "metadata": {
        "id": "lOZARxWtT9cu"
      }
    },
    {
      "cell_type": "code",
      "execution_count": null,
      "metadata": {
        "id": "SqCRNySUGFDV"
      },
      "outputs": [],
      "source": [
        "# Import your modules!\n",
        "\n",
        "!pip install scanpy\n",
        "import scanpy as sc\n",
        "import pandas as pd\n",
        "import matplotlib.pyplot as plt\n",
        "import seaborn as sns"
      ]
    },
    {
      "cell_type": "markdown",
      "source": [
        "The function `datasets.visium_sge()` downloads the dataset from 10x Genomics and returns an `AnnData `object that contains counts, images and spatial coordinates. We will calculate standard QC metrics with `pp.calculate_qc_metrics` and percentage of mitochondrial read counts per sample."
      ],
      "metadata": {
        "id": "UgpaktlCVDBF"
      }
    },
    {
      "cell_type": "code",
      "source": [
        "adata = sc.datasets.visium_sge(sample_id=\"V1_Human_Brain_Section_1\")\n",
        "adata.var_names_make_unique()\n",
        "adata.var[\"mt\"] = adata.var_names.str.startswith(\"MT-\")\n",
        "sc.pp.calculate_qc_metrics(adata, qc_vars=[\"mt\"], inplace=True)"
      ],
      "metadata": {
        "id": "7AkQIyZgGdpk"
      },
      "execution_count": null,
      "outputs": []
    },
    {
      "cell_type": "markdown",
      "source": [
        "We should perform some basic filtering of spots (dots on the brain slice) based on total counts and expressed genes."
      ],
      "metadata": {
        "id": "GVAdOzpvVPpJ"
      }
    },
    {
      "cell_type": "code",
      "source": [
        "fig, axs = plt.subplots(1, 4, figsize=(15, 4))\n",
        "sns.distplot(adata.obs[\"total_counts\"], kde=False, ax=axs[0])\n",
        "sns.distplot(adata.obs[\"total_counts\"][adata.obs[\"total_counts\"] < 10000], kde=False, bins=40, ax=axs[1])\n",
        "sns.distplot(adata.obs[\"n_genes_by_counts\"], kde=False, bins=60, ax=axs[2])\n",
        "sns.distplot(adata.obs[\"n_genes_by_counts\"][adata.obs[\"n_genes_by_counts\"] < 4000], kde=False, bins=60, ax=axs[3])"
      ],
      "metadata": {
        "id": "AN2Kh8sqGlvi"
      },
      "execution_count": null,
      "outputs": []
    },
    {
      "cell_type": "markdown",
      "source": [
        "We'll use our histograms to apply some cutoffs to get rid of cells with abnormally low/large levels of gene expression."
      ],
      "metadata": {
        "id": "zn_fqo9_VU7K"
      }
    },
    {
      "cell_type": "code",
      "source": [
        "sc.pp.filter_cells(adata, min_counts=500)\n",
        "sc.pp.filter_cells(adata, max_counts=20000)\n",
        "adata = adata[adata.obs[\"pct_counts_mt\"] < 20]\n",
        "print(f\"#cells after MT filter: {adata.n_obs}\")\n",
        "sc.pp.filter_genes(adata, min_cells=10)"
      ],
      "metadata": {
        "id": "GgIw4aVmG_th"
      },
      "execution_count": null,
      "outputs": []
    },
    {
      "cell_type": "markdown",
      "source": [
        "We proceed to normalize Visium counts data with the built-in `normalize_total` method from `Scanpy`, and detect highly-variable genes (for later)."
      ],
      "metadata": {
        "id": "uptaxIOzVi1C"
      }
    },
    {
      "cell_type": "code",
      "source": [
        "sc.pp.normalize_total(adata, inplace=True)\n",
        "sc.pp.log1p(adata)\n",
        "sc.pp.highly_variable_genes(adata, flavor=\"seurat\", n_top_genes=2000)"
      ],
      "metadata": {
        "id": "ieWke5TkHaxm"
      },
      "execution_count": 6,
      "outputs": []
    },
    {
      "cell_type": "markdown",
      "source": [
        "##Clustering Gene Sets\n",
        "\n",
        "To embed and cluster the manifold encoded by transcriptional similarity, we proceed as in the last notebook by making UMAP plots, and attempting to create clusters in state space based on common patterns of gene expression:"
      ],
      "metadata": {
        "id": "VJ85rKiuVowt"
      }
    },
    {
      "cell_type": "code",
      "source": [
        "!pip install leidenalg\n",
        "sc.pp.pca(adata)\n",
        "sc.pp.neighbors(adata)\n",
        "sc.tl.umap(adata)\n",
        "sc.tl.leiden(adata, key_added=\"clusters\")"
      ],
      "metadata": {
        "id": "GQSOPgTWHdz2"
      },
      "execution_count": null,
      "outputs": []
    },
    {
      "cell_type": "code",
      "source": [
        "plt.rcParams[\"figure.figsize\"] = (4, 4)\n",
        "sc.pl.umap(adata, color=[\"total_counts\", \"n_genes_by_counts\", \"clusters\"], wspace=0.4)"
      ],
      "metadata": {
        "id": "xiFQjHh6HzFj"
      },
      "execution_count": null,
      "outputs": []
    },
    {
      "cell_type": "markdown",
      "source": [
        "##Visualization in Spatial Coordinates\n",
        "\n",
        "Let's now try and map the clusters we came up with back onto the original slice of the human brain:"
      ],
      "metadata": {
        "id": "2vwXBHbAV8j4"
      }
    },
    {
      "cell_type": "code",
      "source": [
        "plt.rcParams[\"figure.figsize\"] = (8, 8)\n",
        "sc.pl.spatial(adata, img_key=\"hires\", color=[\"total_counts\", \"n_genes_by_counts\"])"
      ],
      "metadata": {
        "id": "CrxeYDILH96z"
      },
      "execution_count": null,
      "outputs": []
    },
    {
      "cell_type": "markdown",
      "source": [
        "Before, we performed clustering in gene expression space, and visualized the results with UMAP. By visualizing clustered samples in spatial dimensions, we can gain insights into tissue organization and, potentially, into inter-cellular communication."
      ],
      "metadata": {
        "id": "joT_59D6WIf-"
      }
    },
    {
      "cell_type": "code",
      "source": [
        "sc.pl.spatial(adata, img_key=\"hires\", color=\"clusters\", size=1.5)"
      ],
      "metadata": {
        "id": "xWIhkr2rIIy4"
      },
      "execution_count": null,
      "outputs": []
    },
    {
      "cell_type": "markdown",
      "source": [
        "##Cluster Marker Genes\n",
        "\n",
        "Let us further inspect cluster 5, which occurs along the middle of the image. We can pull out the marker genes for this cluster:"
      ],
      "metadata": {
        "id": "dMnNBlqBWMYa"
      }
    },
    {
      "cell_type": "code",
      "source": [
        "sc.tl.rank_genes_groups(adata, \"clusters\", method=\"t-test\")\n",
        "sc.pl.rank_genes_groups_heatmap(adata, groups=\"5\", n_genes=10, groupby=\"clusters\")"
      ],
      "metadata": {
        "id": "Q5rWJBBiJBkA"
      },
      "execution_count": null,
      "outputs": []
    },
    {
      "cell_type": "markdown",
      "source": [
        "And plot the top marker gene ('FOS') to see if its spatial expression pattern recapitulates the cluster's expression pattern:"
      ],
      "metadata": {
        "id": "jGrNaK-IWfOa"
      }
    },
    {
      "cell_type": "code",
      "source": [
        "sc.pl.spatial(adata, img_key=\"hires\", color=[\"clusters\", \"FOS\"])"
      ],
      "metadata": {
        "id": "ytfRQgnIJLIe"
      },
      "execution_count": null,
      "outputs": []
    },
    {
      "cell_type": "markdown",
      "source": [
        "><b>Task:</b> Try all of this with \"V1_Human_Brain_Section_2\". Do you get different clusters? Try pulling out the top expressed genes for a couple of clusters - are they the same as in the first brain slice? Do you think that genetically-distinct neurons in the human brain are spatially organized?"
      ],
      "metadata": {
        "id": "CcbuFhE1WqKa"
      }
    },
    {
      "cell_type": "markdown",
      "source": [
        "><b>Task:</b> Try the same thing with a section of the mouse brain - you can try \"V1_Adult_Mouse_Brain_Coronal_Section_1\", or \"V1_Adult_Mouse_Brain_Coronal_Section_2\"."
      ],
      "metadata": {
        "id": "5XMwMzKLXDru"
      }
    }
  ]
}