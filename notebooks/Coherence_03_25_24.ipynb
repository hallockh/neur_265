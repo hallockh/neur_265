{
  "nbformat": 4,
  "nbformat_minor": 0,
  "metadata": {
    "colab": {
      "provenance": [],
      "authorship_tag": "ABX9TyNUznTOgfhTP/kF/qkX3Q8R",
      "include_colab_link": true
    },
    "kernelspec": {
      "name": "python3",
      "display_name": "Python 3"
    },
    "language_info": {
      "name": "python"
    }
  },
  "cells": [
    {
      "cell_type": "markdown",
      "metadata": {
        "id": "view-in-github",
        "colab_type": "text"
      },
      "source": [
        "<a href=\"https://colab.research.google.com/github/hallockh/neur_265/blob/main/notebooks/Coherence_03_25_24.ipynb\" target=\"_parent\"><img src=\"https://colab.research.google.com/assets/colab-badge.svg\" alt=\"Open In Colab\"/></a>"
      ]
    },
    {
      "cell_type": "markdown",
      "source": [
        "#Examining Communication Between Two Different Continuously-Sampled Signals\n",
        "\n",
        "We previously learned how to analyze and interpret data from one continuously-sampled signal (EEG or LFP). What happens when you have more than one signal? Different areas of the brain are anatomically-connected with one another - could you infer communication between these areas by looking at the EEG or LFP?\n",
        "\n",
        "##By the end of this notebook, you will be able to:\n",
        "- Visualize rhythmic activity between two signals\n",
        "- Calculate the **phase coherence** between those signals\n",
        "- Determine how phases might line up over time"
      ],
      "metadata": {
        "id": "mSFradQWOVxj"
      }
    },
    {
      "cell_type": "markdown",
      "source": [
        "##Background\n",
        "\n",
        "In our last notebooks, we focused on field data recorded from a single electrode at the scalp (EEG) or in the brain (LFP). However, typical brain voltage recordings consist of multiple electrodes. For example, the standard EEG recording consists of [21 electrodes]('https://en.wikipedia.org/wiki/10%E2%80%9320_system_(EEG)') spaced across the scalp surface, and sometimes many more. The number of electrodes utilized in invasive ECoG (electrocorticography) recordings also range from a handful of contacts to over 100 implanted electrodes. In this module, we continue our study of field data recorded from the cortical surface but now consider ECoG data recorded simultaneously from two electrodes during a task."
      ],
      "metadata": {
        "id": "m3_9pWIWPOKM"
      }
    },
    {
      "cell_type": "markdown",
      "source": [
        "##Case Study Data\n",
        "\n",
        "We conside a patient with epilepsy admitted to the hospital for [resective surgery]('https://pubmed.ncbi.nlm.nih.gov/25602999/'). As part of her routine clinical workup before resective surgery, numerous electrodes were implanted [directly on the cortical surface]('https://en.wikipedia.org/wiki/Electrocorticography'). The purpose of this invasive recording procedure was to monitor and localize her seizures for eventual surgical treatment. During this recording procedure, in which electrocorticogram (ECoG) electrodes were implanted and recordings performed for one week, the patient volunteered to participate in an auditory task study administered by a collaborating researcher. The task required the patient to listen to individual phonemes through headphones and respond with a button click whenever she heard the [phoneme]('https://www.jneurosci.org/content/30/49/16643') “ba” (the other phonemes were different, e.g., “pa,” ”ma”). The tone presentation was repeated 100 times, and her ECoG recorded (sampling rate 500 Hz) from two cortical electrodes over the auditory brain area for 1 s."
      ],
      "metadata": {
        "id": "vSQxcfMmPsex"
      }
    },
    {
      "cell_type": "code",
      "source": [
        "# Loadin' modules\n",
        "\n",
        "import numpy as np\n",
        "import matplotlib.pyplot as plt\n"
      ],
      "metadata": {
        "id": "ZwX6hvjKR0xR"
      },
      "execution_count": null,
      "outputs": []
    },
    {
      "cell_type": "markdown",
      "source": [
        "Visual inspection\n",
        "\n",
        "We begin our analysis by visualizing the ECoG data. To do so, load the <code>ecoga.csv</code>, <code>ecogb.csv</code>, and <code>t.csv</code> files from our class GitHub repo in as <code>numpy</code> arrays named <code>ecoga</code>, <code>ecogb</code>, and <code>time</code>, respectively."
      ],
      "metadata": {
        "id": "BpLV3ydiQUQ5"
      }
    },
    {
      "cell_type": "code",
      "source": [
        "# Your code here\n",
        "\n"
      ],
      "metadata": {
        "id": "Aq07lfs7Ry_M"
      },
      "execution_count": null,
      "outputs": []
    },
    {
      "cell_type": "markdown",
      "source": [
        "Our data are organized similarly to last week's data - specifically, rows correspond to trials, and columns correspond to samples. Look at the shape of your <code>ecoga</code> variable below to see how many trials there are:"
      ],
      "metadata": {
        "id": "sfN2WvgzSOXz"
      }
    },
    {
      "cell_type": "code",
      "source": [
        "# Your code here!\n",
        "\n",
        "\n"
      ],
      "metadata": {
        "id": "0pWlEnioSb8D"
      },
      "execution_count": null,
      "outputs": []
    },
    {
      "cell_type": "markdown",
      "source": [
        "><b>Task:</b> Let's go ahead and plot the first trial from <code>ecoga</code> in <font color = 'blue'>blue</font>, and the first trial from <code>ecogb</code> in <font color = 'red'>red</font>. Put time on the x-axis, and label your axes. What do you see? Does it look like the two signals have any kind of relationship?"
      ],
      "metadata": {
        "id": "6MFXxqvYSwlZ"
      }
    },
    {
      "cell_type": "code",
      "source": [
        "# Plot the raw data!\n"
      ],
      "metadata": {
        "id": "3n157wcmTHGm"
      },
      "execution_count": null,
      "outputs": []
    },
    {
      "cell_type": "markdown",
      "source": [
        "><b>Task:</b> Find the total length of the signal in seconds by indexing the last value of your <code>time</code> variable. Using this value, find the sampling rate of your data."
      ],
      "metadata": {
        "id": "lMFaemJMTrZN"
      }
    },
    {
      "cell_type": "code",
      "source": [
        "# Find your sampling rate here\n",
        "\n"
      ],
      "metadata": {
        "id": "0r-Nbow4T_IR"
      },
      "execution_count": null,
      "outputs": []
    },
    {
      "cell_type": "markdown",
      "source": [
        "Question: What do you think the dominant oscillation in your two signals is? You can figure this out by counting the number of peaks in the signal, and dividing that number by the length of your signal (in seconds)."
      ],
      "metadata": {
        "id": "ZrDr3PLIUAsP"
      }
    },
    {
      "cell_type": "markdown",
      "source": [
        "These techniques allow us to visualize the data one trial at a time. Doing so is often useful but can be time consuming, especially as the number of trials increases. Here we have 100 trials, and to visualize all of them in this way would require 100 plots. That’s not so bad, but there’s a better way. We can display the entire structure of the data across both time and trials as an image:"
      ],
      "metadata": {
        "id": "JtA9L7ADUZoo"
      }
    },
    {
      "cell_type": "code",
      "source": [
        "K = ecoga.shape[0]                            # Get the number of trials.\n",
        "f, a = plt.subplots(figsize=(6, 6))            # Make a square axis\n",
        "a.imshow(ecogb,                               #... and show the image,\n",
        "           extent=[np.min(time), np.max(time), K, 1],  # ... with meaningful axes,\n",
        "           aspect='auto')                  # ... and a nice aspect ratio.\n",
        "plt.xlabel('Time [s]')\n",
        "plt.ylabel('Trial #');\n",
        "plt.title('All trials from ecoga')\n"
      ],
      "metadata": {
        "id": "CIjP9HQ2UbBt"
      },
      "execution_count": null,
      "outputs": []
    },
    {
      "cell_type": "markdown",
      "source": [
        "The resulting image for the first electrode is shown in the figure above. Voltage (in color) is plotted as a function of time along the horizontal axis and trial number along the vertical axis. This allows us to visualize the voltage activity of the first electrode for all trials at once.\n",
        "\n",
        "We notice that each trial exhibits rhythmic structure, which manifests in this image as repeating undulations of blue (low voltage), then green (high voltage) over time. We also observe variability in the alignment of these rhythms from trial to trial; from one trial to the next, the undulations appear not to align."
      ],
      "metadata": {
        "id": "_A7zIKkuWMr5"
      }
    },
    {
      "cell_type": "markdown",
      "source": [
        "><b>Task:</b> Display an image of the activity for the second electrode and compare it to the image from the first electrode in the figure above. How do the two compare?"
      ],
      "metadata": {
        "id": "6Uxa6XXuWRmN"
      }
    },
    {
      "cell_type": "code",
      "source": [
        "# Your code here!"
      ],
      "metadata": {
        "id": "R6GDgHDVWi0E"
      },
      "execution_count": null,
      "outputs": []
    },
    {
      "cell_type": "markdown",
      "source": [
        "Visual inspection of the ECoG data allows us to draw some preliminary conclusions. First, the data appear to be rhythmic, with a particularly strong oscillation near 8 Hz. That’s interesting but not the primary research objective. We would really like to understand whether the activity at the two electrodes is related. Many techniques exist to approach this problem, but let’s begin with the most basic: visual inspection. Let’s examine the activity in the first four trials, and attempt to deduce whether a consistent relation exists between the two ECoG signals across trials."
      ],
      "metadata": {
        "id": "Lsi9FmCqWj4y"
      }
    },
    {
      "cell_type": "code",
      "source": [
        "var = [4,5,6,7]\n",
        "f, a = plt.subplots(4, 1, figsize=(12, 3*4))\n",
        "for j in range(4):\n",
        "    a[j].plot(time, ecoga[var[j]], 'b')            # Plot the data from trial j of one electrode,\n",
        "    a[j].plot(time, ecogb[var[j]], 'r')            # ... and trial j of the other electrode.\n",
        "    a[j].set_ylabel('Trial ' + str(j))\n",
        ""
      ],
      "metadata": {
        "id": "vO_QYDupWoZE"
      },
      "execution_count": null,
      "outputs": []
    },
    {
      "cell_type": "markdown",
      "source": [
        "We notice in the first two trials that the ECoG activity from the two electrodes appears nearly out of phase (i.e., when the blue curve is near a peak, the red curve is near a trough). However, for the next two trials, activity from the two electrodes nearly overlaps. From this initial visual inspection of four trials, it’s difficult to conclude whether the ECoG activity at the two electrodes is interrelated; both electrodes display rhythmic activity across all trials, but the relation between these rhythms appears to change across trials: sometimes the activities overlap, and sometimes not."
      ],
      "metadata": {
        "id": "-uq8DHZuW6Uv"
      }
    },
    {
      "cell_type": "markdown",
      "source": [
        "><b>Task:</b> Plot trials 5-8 instead. Do this by modifying the loop above. Do you notice anything different about these trials?"
      ],
      "metadata": {
        "id": "0xFjt1I7Y4la"
      }
    },
    {
      "cell_type": "markdown",
      "source": [
        "##Autocovariance and Cross-covariance\n",
        "\n",
        "To see if rhythmic activity occurs at specific timepoints, we can apply something called **autocovariance** to our time series. The basic idea behind autocovariance is to take a signal and correlate it with itself at different **lags**. In other words - how well does a signal match up with itself at different points in time?"
      ],
      "metadata": {
        "id": "_olaz0flZONw"
      }
    },
    {
      "cell_type": "code",
      "source": [
        "dt = time[1] - time[0]              # Define the sampling interval.\n",
        "K = ecogb.shape[0]               # Define the number of trials.\n",
        "N = ecogb.shape[1]               # Define number of points in each trial.\n",
        "ac = np.zeros([2 * N - 1])       # Declare empty vector for autocov.\n",
        "\n",
        "for trial in ecogb:              # For each trial,\n",
        "    x = trial - trial.mean()  # ... subtract the mean,\n",
        "    ac0 = 1 / N * np.correlate(x, x, 'full')  # ... compute autocovar,\n",
        "    ac += ac0 / K;            # ... and add to total, scaled by 1/K.\n",
        "\n",
        "lags = np.arange(-N + 1, N)      # Create a lag axis,\n",
        "plt.plot(lags * dt, ac)           # ... and plot the result.\n",
        "plt.xlim([-0.2, 0.2])\n",
        "plt.xlabel('Lag [s]')\n",
        "plt.ylabel('Autocovariance');\n",
        "plt.title('Trial averaged autocovariance')\n"
      ],
      "metadata": {
        "id": "G2cvDru7aAgx"
      },
      "execution_count": null,
      "outputs": []
    },
    {
      "cell_type": "markdown",
      "source": [
        "Question: What do these results suggest about the dominant rhythm in our data? Count the peaks that emerge from the autocovariance - which frequency is present?"
      ],
      "metadata": {
        "id": "yc2tV7FbaTaZ"
      }
    },
    {
      "cell_type": "markdown",
      "source": [
        "><b>Task:</b> Repeat the autocovariance for <code>ecogb</code>. How do the results compare with the autocovariance from <code>ecoga</code>?"
      ],
      "metadata": {
        "id": "hmYmAKMeaoFU"
      }
    },
    {
      "cell_type": "markdown",
      "source": [
        "Taking this one step further - we're interested in looking at the covariance *between* the two electrodes. To do this, we can calculate something called the **cross-covariance**. The idea behind the cross-covariance is really similar to autocovariance - but instead of comparing a signal to itself, we'll compare one signal to a second signal at different lags."
      ],
      "metadata": {
        "id": "RSyna3fWa1El"
      }
    },
    {
      "cell_type": "code",
      "source": [
        "x = ecoga[2,:] - np.mean(ecoga[0,:])  # Define one time series,\n",
        "y = ecogb[2,:] - np.mean(ecogb[0,:])  # ... and another.\n",
        "xc=1/N*np.correlate(x,y,2)      # ... and compute their cross covariance.\n",
        "lags = np.arange(-N+1,N)        # Create a lag axis,\n",
        "plt.plot(lags*dt,xc)             # ... and plot the cross covariance vs lags in time.\n",
        "\n",
        "plt.xlim([-0.2, 0.2])            # In a nice range, with axes labelled.\n",
        "plt.xlabel('Lag [s]')\n",
        "plt.ylabel('Cross covariance');\n",
        "plt.title('Cross covariance between two electrodes during the first trial')\n"
      ],
      "metadata": {
        "id": "of0koNRxbP-L"
      },
      "execution_count": null,
      "outputs": []
    },
    {
      "cell_type": "markdown",
      "source": [
        "Question: Examine the cross-covariance between the ECoG data from the two electrodes in the first trial. What do you observe? At what lags are the largest and smallest values of the cross-covariance? How do these results compare to the trial-averaged autocovariance? How do these results compare to the voltage traces from each electrode in the first trial?"
      ],
      "metadata": {
        "id": "MbIUg5KMbiwB"
      }
    },
    {
      "cell_type": "markdown",
      "source": [
        "><b>Task:</b> Repeat the steps above for trials 2, 3, and 4. Does the dominant oscillation change? How about the relationship between the two oscillations?"
      ],
      "metadata": {
        "id": "JTeGiJBAf01_"
      }
    },
    {
      "cell_type": "markdown",
      "source": [
        "We've computed the cross-covariance for one trial, but we're interested in knowing whether the relationship between the two signals is consistent from trial to trial. To determine whether this is the case, we can compute the averaged cross-covariance instead. Below, let's do this for the first four trials:"
      ],
      "metadata": {
        "id": "qaEedP18gELA"
      }
    },
    {
      "cell_type": "code",
      "source": [
        "XC = np.zeros([K, 2 * N - 1])    # Declare empty vector for cross cov.\n",
        "for k in range(K):            # For each trial,\n",
        "    x = ecoga[k] - ecoga[k].mean()  # ...get data from one electrode,\n",
        "    y = ecogb[k] - ecogb[k].mean()  # ...and the other electrode,\n",
        "    XC[k] = 1 / N * np.correlate(x, y, 'full')  # ...compute cross covariance.\n",
        "\n",
        "f, (a1, a2) = plt.subplots(2, 1, figsize=(12, 6), sharex=True, sharey=True)\n",
        "a1.plot(lags * dt, XC.mean(0))                 # Plot cross covariance vs lags in time.\n",
        "[a2.plot(lags * dt, XC[k]) for k in range(4)]  # Also, plot the single-trial cross-covariance for 4 trials\n",
        "\n",
        "plt.xlim([-0.2, 0.2])             # In a nice range, with axes labelled.\n",
        "plt.ylim([-0.6, 0.6])\n",
        "plt.xlabel('Lag [s]')\n",
        "a1.set_title('Trial-averaged cross covariance')\n",
        "a2.set_title('Single-trial cross-covariance')\n"
      ],
      "metadata": {
        "id": "oR6g0sIqgS1j"
      },
      "execution_count": null,
      "outputs": []
    },
    {
      "cell_type": "markdown",
      "source": [
        "Question: What differences and similarities do you observe between the single-trial cross-covariances? Does the trial-averaged cross-covariance make sense? What does this say about the relationships between the two signals?"
      ],
      "metadata": {
        "id": "rjo4lwgKhC1v"
      }
    },
    {
      "cell_type": "markdown",
      "source": [
        "##Introduction to the Coherence\n",
        "\n",
        "Coherence is a measure of association between two time series. Briefly:\n",
        "\n",
        "Two signals are coherent at some frequency if there exists a constant phase relation between them at this frequency. To illustrate this, let's look at a couple of examples:"
      ],
      "metadata": {
        "id": "pVu3ZE6Wh3v8"
      }
    },
    {
      "cell_type": "markdown",
      "source": [
        "##Simple Scenario 1: Phases align across trials\n",
        "\n",
        "First, we assume that at a specific frequency index 𝑗\n",
        ", the two signals possess a constant phase difference across trials. Under this assumption, the phase difference in the first trial (Φ𝑗,1\n",
        ") equals the phase difference in the second trial (Φ𝑗,2\n",
        "), which equals the phase difference in the third trial (Φ𝑗,3\n",
        "), and so on for all trials. To denote this equivalence in the phase difference across trials, let’s replace the symbol for the phase difference Φ𝑗,𝑘\n",
        " with Φ𝑗,0\n",
        "; here, we have replaced the subscript 𝑘\n",
        " with the subscript 0\n",
        " to remind ourselves that the phase difference does not depend upon the choice of trial. Now consider the expression:\n",
        "\n",
        " exp(𝑖Φ𝑗,0).\n",
        "\n",
        " This term defines a point in the complex plane with amplitude 1, which we can visualize as a vector leaving the origin at angle Φ𝑗,0\n",
        " to the real axis. Consider, for example, the leftmost plot in the figure below:"
      ],
      "metadata": {
        "id": "MBNZZA2ZiECJ"
      }
    },
    {
      "cell_type": "markdown",
      "source": [
        "<img src = 'https://drive.google.com/uc?id=1WSjmbHrmDZBcmsuaAG4-oqWh2kdQ61F3'>"
      ],
      "metadata": {
        "id": "7dcdyCHdihgW"
      }
    },
    {
      "cell_type": "markdown",
      "source": [
        "In this cartoon illustration of the complex plane, we plot the phase difference for each trial (orange arrow). In this case, the phase difference is the same across all trials.\n",
        "\n",
        "The summation of these terms across trials then becomes,\n",
        "\n",
        "∑𝑘=1𝐾exp(𝑖Φ𝑗,0).\n",
        "\n",
        "This expression defines a sum of vectors in the complex plane, each of radius 1 (indicated by the blue circle in the figure). Because the phase difference is the same for each trial, these vectors point in the same direction for each trial. Then by summing up these vectors end to end across trials, we produce a long vector in the complex plane that terminates far from the origin, as shown in the righmost panel of the figure above.\n",
        "\n",
        "The coherence is this vector length, divided by 𝐾\n",
        ", so we conclude in this case that,\n",
        "\n",
        "𝜅𝑥𝑦,𝑗=1,\n",
        "\n",
        "which indicates strong coherence between the two signals. The strong coherence in this case results from the constant phase relationship between the two signals across trials at frequency index 𝑗\n",
        "."
      ],
      "metadata": {
        "id": "V1YxLpofiwaA"
      }
    },
    {
      "cell_type": "markdown",
      "source": [
        "##Simple Scenario 2: Phases are random across trials\n",
        "\n",
        "As a second scenario, consider another specific frequency 𝑗\n",
        " in which the two signals have a random phase difference in each trial. In this case, the phase difference can assume any value between 0\n",
        " and 2𝜋\n",
        " for each trial. To visualize this, let’s imagine the phase differences in the complex plane; in this scenario, the vectors point in different (random) directions from trial to trial:"
      ],
      "metadata": {
        "id": "m9adTWuui_qC"
      }
    },
    {
      "cell_type": "markdown",
      "source": [
        "<img src = 'https://drive.google.com/uc?id=1EMkO-iyNGkEP3eC4NZJZXcSs6HEbCxdM'>"
      ],
      "metadata": {
        "id": "Qfwhqi91jEwn"
      }
    },
    {
      "cell_type": "markdown",
      "source": [
        "Question: Consider the sum of these vectors end to end in the complex plane, plotted in the rightmost panel of the figure above. What is the approximate length of this summed vector across trials?"
      ],
      "metadata": {
        "id": "xtbhzwspjc2i"
      }
    },
    {
      "cell_type": "markdown",
      "source": [
        "Under the simplifying assumption that the amplitude is identical at this frequency for both signals and all trials, the coherenceeq is this summed vector length, divided by 𝐾\n",
        ". Our visual inspection of the cartoon in the figure above (rightmost panel) suggests that this summed vector length will be small. Therefore, for this scenario we conclude that,\n",
        "\n",
        "𝜅𝑥𝑦,𝑗≈0,\n",
        "\n",
        "which indicates weak coherence between the two signals. The weak coherence in this case results from the random phase relationship over trials between the two signals."
      ],
      "metadata": {
        "id": "uzjaj1UJjjkv"
      }
    },
    {
      "cell_type": "markdown",
      "source": [
        "These two examples illustrate in simplified scenarios the behavior of the coherence. To summarize, the coherence is a measure of the relationship between 𝑥\n",
        " and 𝑦\n",
        " at the same frequency. The coherence ranges between 0 and 1,\n",
        "\n",
        "0≤𝜅𝑥𝑦,𝑗≤1,\n",
        "\n",
        "in which:\n",
        "\n",
        "0\n",
        " indicates no coherence between signals 𝑥\n",
        " and 𝑦\n",
        " at frequency index 𝑗\n",
        ", and\n",
        "\n",
        "1 indicates strong strong coherence between signals 𝑥\n",
        " and 𝑦\n",
        " at frequency index 𝑗\n",
        "."
      ],
      "metadata": {
        "id": "plf5MUXvjpTq"
      }
    },
    {
      "cell_type": "markdown",
      "source": [
        "##Computing the Coherence\n",
        "\n",
        "With that introduction, we are now equipped to compute the coherence. We expect the coherence to reveal the frequencies at which the two ECoG signals exhibit a constant phase relation across trials."
      ],
      "metadata": {
        "id": "q9fX-aKPjwNm"
      }
    },
    {
      "cell_type": "markdown",
      "source": [
        "Question: Before we compute the coherence, hypothesize whether you expect to observe coherence between the two ECoG signals. If so, at what frequencies?"
      ],
      "metadata": {
        "id": "sPmV-z_cj3IU"
      }
    },
    {
      "cell_type": "markdown",
      "source": [
        "There are a variety of alternatives to compute the coherence. To start, let’s compute the coherence by hand. The reason for doing so is that we can implement the preceding mathematical expressions and in that way gain more understanding of their features. Here’s the Python code:"
      ],
      "metadata": {
        "id": "VcsT6wxKj-a-"
      }
    },
    {
      "cell_type": "code",
      "source": [
        "# Compute the Fourier transforms\n",
        "xf = np.array([np.fft.rfft(x - x.mean()) for x in ecoga])  # ... for each trial in E1\n",
        "yf = np.array([np.fft.rfft(y - y.mean()) for y in ecogb])  # ... and each trial in E2\n",
        "\n",
        "# Compute the spectra\n",
        "T = time[-1]\n",
        "scale = 2 * dt**2 / T\n",
        "Sxx = scale * (xf * xf.conj()).mean(0)  # Spectrum of E1 trials\n",
        "Syy = scale * (yf * yf.conj()).mean(0)  # ... and E2 trials\n",
        "Sxy = scale * (xf * yf.conj()).mean(0)  # ... and the cross spectrum\n",
        "\n",
        "# Compute the coherence.\n",
        "cohr = np.abs(Sxy) / (np.sqrt(Sxx) * np.sqrt(Syy))\n",
        "\n",
        "f = np.fft.rfftfreq(N, dt)                     # Define a frequency axis.\n",
        "plt.plot(f, cohr.real)                      # Plot coherence vs frequency,\n",
        "plt.xlim([0, 50])                           # ... in a chosen frequency range,\n",
        "plt.ylim([0, 1])                            # ... with y-axis scaled,\n",
        "plt.xlabel('Frequency [Hz]')                # ... and with axes labeled.\n",
        "plt.ylabel('Coherence')\n",
        "plt.title('Coherence between two electrodes')\n"
      ],
      "metadata": {
        "id": "ERyA1PU-j_By"
      },
      "execution_count": null,
      "outputs": []
    },
    {
      "cell_type": "markdown",
      "source": [
        "Question: Consider the coherence between the two ECoG electrodes plotted in the figure above. At what frequencies do strong coherences appear? How do these frequencies compare to the trial-averaged cross-covariance?"
      ],
      "metadata": {
        "id": "vhRGp88yltFR"
      }
    },
    {
      "cell_type": "markdown",
      "source": [
        "##Visualizing the Phase Difference across Trials\n",
        "\n",
        "The coherence results suggest for the two ECoG recordings a constant phase relation across trials at 24 Hz and a random phase relation across trials at 8 Hz. To further explore these relations, let’s visualize the distribution of phase differences at the two frequencies, as implemented in the following Python code:"
      ],
      "metadata": {
        "id": "kQOQ9yAyl0C2"
      }
    },
    {
      "cell_type": "code",
      "source": [
        "j8 = np.where(f==40)[0][0]       # Determine index j for frequency 8 Hz.\n",
        "j24 = np.where(f==24)[0][0]     # Determine index j for frequency 24 Hz.\n",
        "\n",
        "phi8 = np.zeros(K)              # Variables to hold phase differences.\n",
        "phi24 = np.zeros(K)\n",
        "\n",
        "for k in range(K):           # For each trial, compute the cross spectrum.\n",
        "    x = ecoga[k] - np.mean(ecoga[k])  # Get the data from each electrode,\n",
        "    y = ecogb[k] - np.mean(ecogb[k,:])\n",
        "    xf = np.fft.rfft(x - np.mean(x))   # ... compute the Fourier transform,\n",
        "    yf = np.fft.rfft(y - np.mean(y))\n",
        "    Sxy = 2 * dt**2 / T * (xf * np.conj(yf))  # ... and the cross-spectrum,\n",
        "    phi8[k] = np.angle(Sxy[j8]) # ... and the phases.\n",
        "    phi24[k] = np.angle(Sxy[j24])\n",
        "                             # Plot the distributions of phases.\n",
        "_, (a1, a2) = plt.subplots(1, 2, sharey=True, sharex=True)\n",
        "a1.hist(phi8, bins=20, range=[-np.pi, np.pi])\n",
        "a2.hist(phi24, bins=20, range=[-np.pi, np.pi])\n",
        "\n",
        "plt.ylim([0, 40])                # Set y-axis and label axes.\n",
        "a1.set_ylabel('Counts')\n",
        "a1.set_xlabel('Phase');\n",
        "a1.set_title('Angles at 8 Hz')\n",
        "\n",
        "a2.set_title('Angles at 24 Hz')\n",
        "a2.set_xlabel('Phase');"
      ],
      "metadata": {
        "id": "iKj1tWfjl6B5"
      },
      "execution_count": null,
      "outputs": []
    },
    {
      "cell_type": "markdown",
      "source": [
        "Again, we’re encountering quite a bit of Python code. Fortunately, large chunks of this code are familiar. We reuse useful quantities, like the number of trials (K) and the frequency axis (f). Then, within the frequency axis variable (f), we use the function where to identify the indices corresponding to a frequency of 8 Hz and a frequency of 24 Hz. For each trial, we then compute the cross-spectrum (Sxy). The cross-spectrum is a complex quantity at each frequency, and we identify the angle in the complex plane corresponding to the frequencies 8 Hz and 24 Hz using the Python function `angle`. We store these results in two vectors, `phi8` and `phi24`.\n",
        "\n",
        "To summarize the results, we plot a histogram of the phase differences. We divide the phase axis into 20 bins of equal size from 0 to 2$\\pi$ radians, or equivalently, 0 to 360 degrees. At 8 Hz, we observe that phase differences appear in all angular intervals; notice that the number of phase differences located in each angular interval remains small, typically less than 10. At 24 Hz, the angular differences concentrate near 0 degrees; all of the angles lie between approximately 60 and 60 degrees. This visualization is consistent with the strong coherence at 24 Hz, indicative of a consistent phase difference across trials between the two electrodes.\n",
        "\n",
        "\n",
        "\n"
      ],
      "metadata": {
        "id": "PdH0-YKYmnmE"
      }
    },
    {
      "cell_type": "markdown",
      "source": [
        "><b>Task:</b> Compute and display the distribution of phase differences at other frequencies - try 20 Hz, 30 Hz, and 40 Hz. What do you find? Are these results consistent with the coherence?"
      ],
      "metadata": {
        "id": "pAysHPzem2e8"
      }
    }
  ]
}